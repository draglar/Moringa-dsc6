{
  "nbformat": 4,
  "nbformat_minor": 0,
  "metadata": {
    "colab": {
      "name": "IP_4.ipynb",
      "provenance": [],
      "collapsed_sections": [],
      "toc_visible": true,
      "authorship_tag": "ABX9TyPXijNDNjPdvG7IXh/9CrNE",
      "include_colab_link": true
    },
    "kernelspec": {
      "name": "python3",
      "display_name": "Python 3"
    }
  },
  "cells": [
    {
      "cell_type": "markdown",
      "metadata": {
        "id": "view-in-github",
        "colab_type": "text"
      },
      "source": [
        "<a href=\"https://colab.research.google.com/github/draglar/Moringa-dsc6/blob/master/IP_4.ipynb\" target=\"_parent\"><img src=\"https://colab.research.google.com/assets/colab-badge.svg\" alt=\"Open In Colab\"/></a>"
      ]
    },
    {
      "cell_type": "markdown",
      "metadata": {
        "id": "6vMve-MTc0J-",
        "colab_type": "text"
      },
      "source": [
        "\n",
        "\n",
        "> Assessment\n",
        "\n",
        "\n",
        ">>Overview\n",
        "\n",
        "In this week's independent project, you will be working as a data scientist working for an electric car-sharing service company. You have been tasked to process stations data to understand electric car usage over time by solving for the following research question;\n",
        "\n",
        ">>Research Question\n",
        "\n",
        "Identify the most popular hour of the day for picking up a shared electric car (Bluecar) in the city of Paris over the month of April \n",
        ">>>Bonus Questions (Optional)\n",
        "\n",
        "What is the most popular hour for returning cars?\n",
        "What station is the most popular?\n",
        "Overall?\n",
        "At the most popular picking hour?\n",
        "What postal code is the most popular for picking up Blue cars? Does the most popular station belong to that postal code?\n",
        "Overall?\n",
        "At the most popular picking hour?\n",
        "Do the results change if you consider Utilib and Utilib 1.4 instead of Blue cars? \n",
        "Your final deliverable will be a data report\n",
        "Hint:\n",
        "\n",
        "To compute usage, we will need to understand that we have to join successive (in time) measures/counters for a given station, as the difference will tell whether a car was picked up, returned, or nothing happened.\n",
        "\n",
        "The CRISP-DM methodology will guide you while working on the Data Report. Your Data Report will also need to have an objective account, with insights majorly coming from the dataset. However, you can refer to external information for supporting information. \n",
        "\n",
        "You can use either SQL/Python for this project.\n",
        "\n"
      ]
    },
    {
      "cell_type": "markdown",
      "metadata": {
        "id": "u906R3cZeTvp",
        "colab_type": "text"
      },
      "source": [
        "##importing data"
      ]
    },
    {
      "cell_type": "code",
      "metadata": {
        "id": "2pLdCkRFeTbo",
        "colab_type": "code",
        "colab": {}
      },
      "source": [
        "import pandas as pd\n",
        "import numpy as np\n",
        "import matplotlib.pyplot as plt\n",
        "%matplotlib inline"
      ],
      "execution_count": null,
      "outputs": []
    },
    {
      "cell_type": "code",
      "metadata": {
        "id": "0ziNDXA7bpwR",
        "colab_type": "code",
        "colab": {
          "base_uri": "https://localhost:8080/",
          "height": 736
        },
        "outputId": "ee23bc99-9331-41ff-e4cb-d4d8a5d5c324"
      },
      "source": [
        "df=pd.read_csv('Autolib_dataset (2).csv')\n",
        "df"
      ],
      "execution_count": 371,
      "outputs": [
        {
          "output_type": "execute_result",
          "data": {
            "text/html": [
              "<div>\n",
              "<style scoped>\n",
              "    .dataframe tbody tr th:only-of-type {\n",
              "        vertical-align: middle;\n",
              "    }\n",
              "\n",
              "    .dataframe tbody tr th {\n",
              "        vertical-align: top;\n",
              "    }\n",
              "\n",
              "    .dataframe thead th {\n",
              "        text-align: right;\n",
              "    }\n",
              "</style>\n",
              "<table border=\"1\" class=\"dataframe\">\n",
              "  <thead>\n",
              "    <tr style=\"text-align: right;\">\n",
              "      <th></th>\n",
              "      <th>Address</th>\n",
              "      <th>Cars</th>\n",
              "      <th>Bluecar counter</th>\n",
              "      <th>Utilib counter</th>\n",
              "      <th>Utilib 1.4 counter</th>\n",
              "      <th>Charge Slots</th>\n",
              "      <th>Charging Status</th>\n",
              "      <th>City</th>\n",
              "      <th>Displayed comment</th>\n",
              "      <th>ID</th>\n",
              "      <th>Kind</th>\n",
              "      <th>Geo point</th>\n",
              "      <th>Postal code</th>\n",
              "      <th>Public name</th>\n",
              "      <th>Rental status</th>\n",
              "      <th>Scheduled at</th>\n",
              "      <th>Slots</th>\n",
              "      <th>Station type</th>\n",
              "      <th>Status</th>\n",
              "      <th>Subscription status</th>\n",
              "      <th>year</th>\n",
              "      <th>month</th>\n",
              "      <th>day</th>\n",
              "      <th>hour</th>\n",
              "      <th>minute</th>\n",
              "    </tr>\n",
              "  </thead>\n",
              "  <tbody>\n",
              "    <tr>\n",
              "      <th>0</th>\n",
              "      <td>2 Avenue de Suffren</td>\n",
              "      <td>0</td>\n",
              "      <td>0</td>\n",
              "      <td>0</td>\n",
              "      <td>0</td>\n",
              "      <td>0</td>\n",
              "      <td>nonexistent</td>\n",
              "      <td>Paris</td>\n",
              "      <td>NaN</td>\n",
              "      <td>paris-suffren-2</td>\n",
              "      <td>STATION</td>\n",
              "      <td>48.857, 2.2917</td>\n",
              "      <td>75015</td>\n",
              "      <td>Paris/Suffren/2</td>\n",
              "      <td>operational</td>\n",
              "      <td>NaN</td>\n",
              "      <td>2</td>\n",
              "      <td>station</td>\n",
              "      <td>ok</td>\n",
              "      <td>nonexistent</td>\n",
              "      <td>2018</td>\n",
              "      <td>4</td>\n",
              "      <td>8</td>\n",
              "      <td>11</td>\n",
              "      <td>43</td>\n",
              "    </tr>\n",
              "    <tr>\n",
              "      <th>1</th>\n",
              "      <td>145 Rue Raymond Losserand</td>\n",
              "      <td>6</td>\n",
              "      <td>6</td>\n",
              "      <td>0</td>\n",
              "      <td>0</td>\n",
              "      <td>0</td>\n",
              "      <td>operational</td>\n",
              "      <td>Paris</td>\n",
              "      <td>NaN</td>\n",
              "      <td>paris-raymondlosserand-145</td>\n",
              "      <td>STATION</td>\n",
              "      <td>48.83126, 2.313088</td>\n",
              "      <td>75014</td>\n",
              "      <td>Paris/Raymond Losserand/145</td>\n",
              "      <td>operational</td>\n",
              "      <td>NaN</td>\n",
              "      <td>0</td>\n",
              "      <td>station</td>\n",
              "      <td>ok</td>\n",
              "      <td>nonexistent</td>\n",
              "      <td>2018</td>\n",
              "      <td>4</td>\n",
              "      <td>6</td>\n",
              "      <td>7</td>\n",
              "      <td>24</td>\n",
              "    </tr>\n",
              "    <tr>\n",
              "      <th>2</th>\n",
              "      <td>2 Avenue John Fitzgerald Kennedy</td>\n",
              "      <td>3</td>\n",
              "      <td>3</td>\n",
              "      <td>0</td>\n",
              "      <td>2</td>\n",
              "      <td>0</td>\n",
              "      <td>operational</td>\n",
              "      <td>Le Bourget</td>\n",
              "      <td>NaN</td>\n",
              "      <td>lebourget-johnfitzgeraldkennedy-2</td>\n",
              "      <td>STATION</td>\n",
              "      <td>48.938103, 2.4286035</td>\n",
              "      <td>93350</td>\n",
              "      <td>Le Bourget/John Fitzgerald Kennedy/2</td>\n",
              "      <td>operational</td>\n",
              "      <td>NaN</td>\n",
              "      <td>1</td>\n",
              "      <td>station</td>\n",
              "      <td>ok</td>\n",
              "      <td>nonexistent</td>\n",
              "      <td>2018</td>\n",
              "      <td>4</td>\n",
              "      <td>3</td>\n",
              "      <td>20</td>\n",
              "      <td>14</td>\n",
              "    </tr>\n",
              "    <tr>\n",
              "      <th>3</th>\n",
              "      <td>51 Rue EugÃ¨ne OudinÃ©</td>\n",
              "      <td>3</td>\n",
              "      <td>3</td>\n",
              "      <td>1</td>\n",
              "      <td>0</td>\n",
              "      <td>1</td>\n",
              "      <td>operational</td>\n",
              "      <td>Paris</td>\n",
              "      <td>NaN</td>\n",
              "      <td>paris-eugeneoudine-51</td>\n",
              "      <td>STATION</td>\n",
              "      <td>48.8250327, 2.3725162</td>\n",
              "      <td>75013</td>\n",
              "      <td>Paris/EugÃ¨ne OudinÃ©/51</td>\n",
              "      <td>operational</td>\n",
              "      <td>NaN</td>\n",
              "      <td>2</td>\n",
              "      <td>station</td>\n",
              "      <td>ok</td>\n",
              "      <td>nonexistent</td>\n",
              "      <td>2018</td>\n",
              "      <td>4</td>\n",
              "      <td>4</td>\n",
              "      <td>4</td>\n",
              "      <td>37</td>\n",
              "    </tr>\n",
              "    <tr>\n",
              "      <th>4</th>\n",
              "      <td>6 avenue de la Porte de Champerret</td>\n",
              "      <td>3</td>\n",
              "      <td>3</td>\n",
              "      <td>0</td>\n",
              "      <td>0</td>\n",
              "      <td>0</td>\n",
              "      <td>nonexistent</td>\n",
              "      <td>Paris</td>\n",
              "      <td>NaN</td>\n",
              "      <td>paris-portedechamperret-6</td>\n",
              "      <td>PARKING</td>\n",
              "      <td>48.8862632, 2.2874511</td>\n",
              "      <td>75017</td>\n",
              "      <td>Paris/Porte de Champerret/6</td>\n",
              "      <td>operational</td>\n",
              "      <td>NaN</td>\n",
              "      <td>3</td>\n",
              "      <td>station</td>\n",
              "      <td>ok</td>\n",
              "      <td>nonexistent</td>\n",
              "      <td>2018</td>\n",
              "      <td>4</td>\n",
              "      <td>8</td>\n",
              "      <td>17</td>\n",
              "      <td>23</td>\n",
              "    </tr>\n",
              "    <tr>\n",
              "      <th>...</th>\n",
              "      <td>...</td>\n",
              "      <td>...</td>\n",
              "      <td>...</td>\n",
              "      <td>...</td>\n",
              "      <td>...</td>\n",
              "      <td>...</td>\n",
              "      <td>...</td>\n",
              "      <td>...</td>\n",
              "      <td>...</td>\n",
              "      <td>...</td>\n",
              "      <td>...</td>\n",
              "      <td>...</td>\n",
              "      <td>...</td>\n",
              "      <td>...</td>\n",
              "      <td>...</td>\n",
              "      <td>...</td>\n",
              "      <td>...</td>\n",
              "      <td>...</td>\n",
              "      <td>...</td>\n",
              "      <td>...</td>\n",
              "      <td>...</td>\n",
              "      <td>...</td>\n",
              "      <td>...</td>\n",
              "      <td>...</td>\n",
              "      <td>...</td>\n",
              "    </tr>\n",
              "    <tr>\n",
              "      <th>4995</th>\n",
              "      <td>8 avenue MÃ©nelotte</td>\n",
              "      <td>2</td>\n",
              "      <td>2</td>\n",
              "      <td>0</td>\n",
              "      <td>0</td>\n",
              "      <td>0</td>\n",
              "      <td>nonexistent</td>\n",
              "      <td>Colombes</td>\n",
              "      <td>NaN</td>\n",
              "      <td>colombes-menelotte-8</td>\n",
              "      <td>STATION</td>\n",
              "      <td>48.9246525, 2.259313</td>\n",
              "      <td>92700</td>\n",
              "      <td>Colombes/MÃ©nelotte/8</td>\n",
              "      <td>operational</td>\n",
              "      <td>NaN</td>\n",
              "      <td>3</td>\n",
              "      <td>station</td>\n",
              "      <td>ok</td>\n",
              "      <td>nonexistent</td>\n",
              "      <td>2018</td>\n",
              "      <td>4</td>\n",
              "      <td>6</td>\n",
              "      <td>11</td>\n",
              "      <td>26</td>\n",
              "    </tr>\n",
              "    <tr>\n",
              "      <th>4996</th>\n",
              "      <td>37 rue de Dantzig</td>\n",
              "      <td>4</td>\n",
              "      <td>4</td>\n",
              "      <td>0</td>\n",
              "      <td>0</td>\n",
              "      <td>1</td>\n",
              "      <td>operational</td>\n",
              "      <td>Paris</td>\n",
              "      <td>NaN</td>\n",
              "      <td>paris-dantzig-37</td>\n",
              "      <td>STATION</td>\n",
              "      <td>48.8335103, 2.2987201</td>\n",
              "      <td>75015</td>\n",
              "      <td>Paris/Dantzig/37</td>\n",
              "      <td>operational</td>\n",
              "      <td>NaN</td>\n",
              "      <td>2</td>\n",
              "      <td>station</td>\n",
              "      <td>ok</td>\n",
              "      <td>nonexistent</td>\n",
              "      <td>2018</td>\n",
              "      <td>4</td>\n",
              "      <td>4</td>\n",
              "      <td>16</td>\n",
              "      <td>56</td>\n",
              "    </tr>\n",
              "    <tr>\n",
              "      <th>4997</th>\n",
              "      <td>142 rue du Bac</td>\n",
              "      <td>1</td>\n",
              "      <td>1</td>\n",
              "      <td>0</td>\n",
              "      <td>0</td>\n",
              "      <td>1</td>\n",
              "      <td>operational</td>\n",
              "      <td>Paris</td>\n",
              "      <td>NaN</td>\n",
              "      <td>paris-bac-142</td>\n",
              "      <td>STATION</td>\n",
              "      <td>48.8508194, 2.3237968</td>\n",
              "      <td>75007</td>\n",
              "      <td>Paris/Bac/142</td>\n",
              "      <td>operational</td>\n",
              "      <td>NaN</td>\n",
              "      <td>4</td>\n",
              "      <td>station</td>\n",
              "      <td>ok</td>\n",
              "      <td>nonexistent</td>\n",
              "      <td>2018</td>\n",
              "      <td>4</td>\n",
              "      <td>1</td>\n",
              "      <td>7</td>\n",
              "      <td>1</td>\n",
              "    </tr>\n",
              "    <tr>\n",
              "      <th>4998</th>\n",
              "      <td>2 avenue du Val de Fontenay</td>\n",
              "      <td>2</td>\n",
              "      <td>2</td>\n",
              "      <td>0</td>\n",
              "      <td>0</td>\n",
              "      <td>0</td>\n",
              "      <td>nonexistent</td>\n",
              "      <td>Fontenay-Sous-Bois</td>\n",
              "      <td>NaN</td>\n",
              "      <td>fontenaysousbois-valdefontenay-2</td>\n",
              "      <td>STATION</td>\n",
              "      <td>48.8528247, 2.4869085</td>\n",
              "      <td>94120</td>\n",
              "      <td>Fontenay-Sous-Bois/Val de Fontenay/2</td>\n",
              "      <td>operational</td>\n",
              "      <td>NaN</td>\n",
              "      <td>3</td>\n",
              "      <td>station</td>\n",
              "      <td>ok</td>\n",
              "      <td>nonexistent</td>\n",
              "      <td>2018</td>\n",
              "      <td>4</td>\n",
              "      <td>4</td>\n",
              "      <td>17</td>\n",
              "      <td>27</td>\n",
              "    </tr>\n",
              "    <tr>\n",
              "      <th>4999</th>\n",
              "      <td>5 Rue Henry Brisson</td>\n",
              "      <td>4</td>\n",
              "      <td>4</td>\n",
              "      <td>0</td>\n",
              "      <td>0</td>\n",
              "      <td>0</td>\n",
              "      <td>operational</td>\n",
              "      <td>Paris</td>\n",
              "      <td>NaN</td>\n",
              "      <td>paris-henrybrisson-5</td>\n",
              "      <td>STATION</td>\n",
              "      <td>48.8984293, 2.3347923</td>\n",
              "      <td>75018</td>\n",
              "      <td>Paris/Henry Brisson/5</td>\n",
              "      <td>operational</td>\n",
              "      <td>NaN</td>\n",
              "      <td>0</td>\n",
              "      <td>station</td>\n",
              "      <td>ok</td>\n",
              "      <td>nonexistent</td>\n",
              "      <td>2018</td>\n",
              "      <td>4</td>\n",
              "      <td>8</td>\n",
              "      <td>10</td>\n",
              "      <td>2</td>\n",
              "    </tr>\n",
              "  </tbody>\n",
              "</table>\n",
              "<p>5000 rows × 25 columns</p>\n",
              "</div>"
            ],
            "text/plain": [
              "                                 Address  Cars  ...  hour  minute\n",
              "0                    2 Avenue de Suffren     0  ...    11      43\n",
              "1              145 Rue Raymond Losserand     6  ...     7      24\n",
              "2       2 Avenue John Fitzgerald Kennedy     3  ...    20      14\n",
              "3                 51 Rue EugÃ¨ne OudinÃ©     3  ...     4      37\n",
              "4     6 avenue de la Porte de Champerret     3  ...    17      23\n",
              "...                                  ...   ...  ...   ...     ...\n",
              "4995                 8 avenue MÃ©nelotte     2  ...    11      26\n",
              "4996                   37 rue de Dantzig     4  ...    16      56\n",
              "4997                      142 rue du Bac     1  ...     7       1\n",
              "4998         2 avenue du Val de Fontenay     2  ...    17      27\n",
              "4999                 5 Rue Henry Brisson     4  ...    10       2\n",
              "\n",
              "[5000 rows x 25 columns]"
            ]
          },
          "metadata": {
            "tags": []
          },
          "execution_count": 371
        }
      ]
    },
    {
      "cell_type": "markdown",
      "metadata": {
        "id": "JyL2YpCEfIdj",
        "colab_type": "text"
      },
      "source": [
        "##Data preparation"
      ]
    },
    {
      "cell_type": "code",
      "metadata": {
        "id": "L_l5YKadfKHk",
        "colab_type": "code",
        "colab": {
          "base_uri": "https://localhost:8080/",
          "height": 440
        },
        "outputId": "fb276f1e-beaa-456d-cfd7-16399c31c991"
      },
      "source": [
        "df.isna().sum()"
      ],
      "execution_count": null,
      "outputs": [
        {
          "output_type": "execute_result",
          "data": {
            "text/plain": [
              "Address                   0\n",
              "Cars                      0\n",
              "Bluecar counter           0\n",
              "Utilib counter            0\n",
              "Utilib 1.4 counter        0\n",
              "Charge Slots              0\n",
              "Charging Status           0\n",
              "City                      0\n",
              "Displayed comment      4889\n",
              "ID                        0\n",
              "Kind                      0\n",
              "Geo point                 0\n",
              "Postal code               0\n",
              "Public name               0\n",
              "Rental status             0\n",
              "Scheduled at           4953\n",
              "Slots                     0\n",
              "Station type              0\n",
              "Status                    0\n",
              "Subscription status       0\n",
              "year                      0\n",
              "month                     0\n",
              "day                       0\n",
              "hour                      0\n",
              "minute                    0\n",
              "dtype: int64"
            ]
          },
          "metadata": {
            "tags": []
          },
          "execution_count": 3
        }
      ]
    },
    {
      "cell_type": "code",
      "metadata": {
        "id": "x89dpGbFgEmB",
        "colab_type": "code",
        "colab": {
          "base_uri": "https://localhost:8080/",
          "height": 33
        },
        "outputId": "04ae8002-5b00-46e8-f8f5-3217209baf0f"
      },
      "source": [
        "df['Scheduled at'].count()"
      ],
      "execution_count": null,
      "outputs": [
        {
          "output_type": "execute_result",
          "data": {
            "text/plain": [
              "47"
            ]
          },
          "metadata": {
            "tags": []
          },
          "execution_count": 16
        }
      ]
    },
    {
      "cell_type": "markdown",
      "metadata": {
        "id": "RJpK-NXiiftA",
        "colab_type": "text"
      },
      "source": [
        "Based on the data all the stations that have been scheduled are yet to be made active,meaning they are unnecessary.\n",
        "They will be purged, in turn the column scheduled at will also be irrelevant."
      ]
    },
    {
      "cell_type": "markdown",
      "metadata": {
        "id": "eoi-VAZhwhDn",
        "colab_type": "text"
      },
      "source": [
        "the task at hand only requires the city of Paris"
      ]
    },
    {
      "cell_type": "code",
      "metadata": {
        "id": "Jd_C6XpQwgdl",
        "colab_type": "code",
        "colab": {
          "base_uri": "https://localhost:8080/",
          "height": 391
        },
        "outputId": "f7ff7aaf-b502-4dc1-e212-426ac0f25619"
      },
      "source": [
        "df.City.unique()"
      ],
      "execution_count": null,
      "outputs": [
        {
          "output_type": "execute_result",
          "data": {
            "text/plain": [
              "array(['Paris', 'Le Bourget', 'Nanterre', 'Puteaux', 'Fontenay-aux-Roses',\n",
              "       'Le Chesnay', 'Suresnes', 'Versailles', 'Malakoff',\n",
              "       'Issy-les-Moulineaux', 'Saint-Cloud', 'SÃ¨vres', 'Bezons',\n",
              "       'Nogent-sur-Marne', 'CrÃ©teil', 'Villejuif', 'Rueil-Malmaison',\n",
              "       'Villeneuve-la-Garenne', 'Montreuil', 'Charenton-le-Pont',\n",
              "       'Courbevoie', 'AsniÃ¨res-sur-Seine', 'Garches', 'Drancy',\n",
              "       'La Garenne-Colombes', 'VerriÃ¨res-le-Buisson', 'Le Blanc-Mesnil',\n",
              "       'Vanves', 'Enghien-les-Bains', 'Sceaux', 'Levallois-Perret',\n",
              "       'Boulogne-Billancourt', 'ChÃ¢tenay-Malabry', 'Pantin', 'Meudon',\n",
              "       'Gennevilliers', 'Vincennes', 'Rungis', 'Colombes',\n",
              "       'Fontenay-Sous-Bois', 'Rosny-sous-Bois', 'Bourg-la-Reine',\n",
              "       'Cachan', 'Maisons-Alfort', 'Alfortville', 'Champigny-sur-Marne',\n",
              "       'Aulnay-sous-bois', 'Saint-Denis', 'Le Plessis-Robinson',\n",
              "       'Le PrÃ©-Saint-Gervais', 'Clamart', 'Bois-Colombes', 'Bagnolet',\n",
              "       'Vaucresson', 'Limeil-BrÃ©vannes', 'Saint-Maurice', 'Romainville',\n",
              "       'VÃ©lizy-Villacoublay', 'Arcueil', 'Saint-Ouen',\n",
              "       'Clichy la garenne', 'Meudon-la-ForÃªt', 'Clichy-la-Garenne',\n",
              "       \"Ville-d'Avray\", 'Argenteuil', 'Noisy-le-Sec', 'Saint-MandÃ©',\n",
              "       'Neuilly-sur-Seine', 'Clichy-sous-Bois', 'Montfermeil', 'Antony',\n",
              "       'Bagneux', 'Epinay-sur-Seine', 'ChÃ¢tillon',\n",
              "       'Ã\\x89pinay-sur-Seine', 'Yerres', 'Dugny', 'Joinville-le-Pont',\n",
              "       'Neuilly-Plaisance', 'Montrouge', 'Chaville', 'Saclay',\n",
              "       'Les Lilas', 'Saint-Maur', 'Aubervilliers'], dtype=object)"
            ]
          },
          "metadata": {
            "tags": []
          },
          "execution_count": 34
        }
      ]
    },
    {
      "cell_type": "markdown",
      "metadata": {
        "id": "lmNZLhJs0Yzz",
        "colab_type": "text"
      },
      "source": [
        "so many cities,All except paris need to be dropped"
      ]
    },
    {
      "cell_type": "code",
      "metadata": {
        "id": "P16JgBqVzVm9",
        "colab_type": "code",
        "colab": {
          "base_uri": "https://localhost:8080/",
          "height": 33
        },
        "outputId": "f9919fb3-7c5f-4611-dcfd-44eadcd6e423"
      },
      "source": [
        " df['Rental status'].unique()"
      ],
      "execution_count": null,
      "outputs": [
        {
          "output_type": "execute_result",
          "data": {
            "text/plain": [
              "array(['operational', 'broken', 'future', 'nonexistent'], dtype=object)"
            ]
          },
          "metadata": {
            "tags": []
          },
          "execution_count": 68
        }
      ]
    },
    {
      "cell_type": "markdown",
      "metadata": {
        "id": "hCPACbn2Rx94",
        "colab_type": "text"
      },
      "source": [
        "only the operational Stations should have any impact on the analysis"
      ]
    },
    {
      "cell_type": "markdown",
      "metadata": {
        "id": "lECoigvfnNme",
        "colab_type": "text"
      },
      "source": [
        "###Data cleaning"
      ]
    },
    {
      "cell_type": "markdown",
      "metadata": {
        "id": "URRn1JHZXCkp",
        "colab_type": "text"
      },
      "source": [
        "###validity"
      ]
    },
    {
      "cell_type": "code",
      "metadata": {
        "id": "cuA0yWG40HSz",
        "colab_type": "code",
        "colab": {}
      },
      "source": [
        "df=df[(df['Rental status']=='operational')|(df['Rental status']=='broken')]"
      ],
      "execution_count": 372,
      "outputs": []
    },
    {
      "cell_type": "code",
      "metadata": {
        "id": "DRGAuGxMhtEB",
        "colab_type": "code",
        "colab": {}
      },
      "source": [
        "df_p=df[df['City']=='Paris']"
      ],
      "execution_count": 373,
      "outputs": []
    },
    {
      "cell_type": "code",
      "metadata": {
        "id": "l7Bx7jvUnijY",
        "colab_type": "code",
        "colab": {
          "base_uri": "https://localhost:8080/",
          "height": 118
        },
        "outputId": "c1f8d60d-acdd-4fa9-91e2-02592af2747f"
      },
      "source": [
        "df.drop(['Displayed comment','Scheduled at','City','Rental status','Status','year'],axis=1,inplace=True)"
      ],
      "execution_count": 374,
      "outputs": [
        {
          "output_type": "stream",
          "text": [
            "/usr/local/lib/python3.6/dist-packages/pandas/core/frame.py:3997: SettingWithCopyWarning: \n",
            "A value is trying to be set on a copy of a slice from a DataFrame\n",
            "\n",
            "See the caveats in the documentation: https://pandas.pydata.org/pandas-docs/stable/user_guide/indexing.html#returning-a-view-versus-a-copy\n",
            "  errors=errors,\n"
          ],
          "name": "stderr"
        }
      ]
    },
    {
      "cell_type": "markdown",
      "metadata": {
        "id": "DERjwsu3XFO8",
        "colab_type": "text"
      },
      "source": [
        "###accuracy"
      ]
    },
    {
      "cell_type": "code",
      "metadata": {
        "id": "pHg0XuEUPTJb",
        "colab_type": "code",
        "colab": {
          "base_uri": "https://localhost:8080/",
          "height": 342
        },
        "outputId": "267876bc-ceb9-4732-854e-679005c7777c"
      },
      "source": [
        "df.count()"
      ],
      "execution_count": 406,
      "outputs": [
        {
          "output_type": "execute_result",
          "data": {
            "text/plain": [
              "Address                4950\n",
              "Cars                   4950\n",
              "Bluecar counter        4950\n",
              "Utilib counter         4950\n",
              "Utilib 1.4 counter     4950\n",
              "Charge Slots           4950\n",
              "Charging Status        4950\n",
              "ID                     4950\n",
              "Kind                   4950\n",
              "Geo point              4950\n",
              "Postal code            4950\n",
              "Public name            4950\n",
              "Slots                  4950\n",
              "Station type           4950\n",
              "Subscription status    4950\n",
              "month                  4950\n",
              "day                    4950\n",
              "hour                   4950\n",
              "minute                 4950\n",
              "dtype: int64"
            ]
          },
          "metadata": {
            "tags": []
          },
          "execution_count": 406
        }
      ]
    },
    {
      "cell_type": "code",
      "metadata": {
        "id": "y_ASeKRrPInK",
        "colab_type": "code",
        "colab": {
          "base_uri": "https://localhost:8080/",
          "height": 342
        },
        "outputId": "2dd2e7a8-6166-41fd-a840-83567a1516fc"
      },
      "source": [
        "Q1 = df.quantile(0.25)\n",
        "Q3 = df.quantile(0.75)\n",
        "IQR = Q3 - Q1\n",
        "\n",
        "df[((df < (Q1 - 1.5 * IQR)) | (df > (Q3 + 1.5 * IQR)))].count()"
      ],
      "execution_count": 408,
      "outputs": [
        {
          "output_type": "execute_result",
          "data": {
            "text/plain": [
              "Address                  0\n",
              "Cars                     0\n",
              "Bluecar counter          0\n",
              "Utilib counter         286\n",
              "Utilib 1.4 counter     569\n",
              "Charge Slots           994\n",
              "Charging Status          0\n",
              "ID                       0\n",
              "Kind                     0\n",
              "Geo point                0\n",
              "Postal code              0\n",
              "Public name              0\n",
              "Slots                    0\n",
              "Station type             0\n",
              "Subscription status      0\n",
              "month                    0\n",
              "day                      0\n",
              "hour                     0\n",
              "minute                   0\n",
              "dtype: int64"
            ]
          },
          "metadata": {
            "tags": []
          },
          "execution_count": 408
        }
      ]
    },
    {
      "cell_type": "markdown",
      "metadata": {
        "id": "MfT03vESQ9xJ",
        "colab_type": "text"
      },
      "source": [
        "having Utilib counter and Utilib 1.4 counter seems improbable because its dependent on the location of the Station, therefore i will not remove the outliers"
      ]
    },
    {
      "cell_type": "markdown",
      "metadata": {
        "id": "qX0D9yq8Xm7S",
        "colab_type": "text"
      },
      "source": [
        "###completeness"
      ]
    },
    {
      "cell_type": "code",
      "metadata": {
        "id": "OXQCGFwDciKE",
        "colab_type": "code",
        "colab": {
          "base_uri": "https://localhost:8080/",
          "height": 342
        },
        "outputId": "0dce5c0d-363c-4112-fc06-bc9ac380486f"
      },
      "source": [
        "df.isna().sum()"
      ],
      "execution_count": 239,
      "outputs": [
        {
          "output_type": "execute_result",
          "data": {
            "text/plain": [
              "Address                0\n",
              "Cars                   0\n",
              "Bluecar counter        0\n",
              "Utilib counter         0\n",
              "Utilib 1.4 counter     0\n",
              "Charge Slots           0\n",
              "Charging Status        0\n",
              "ID                     0\n",
              "Kind                   0\n",
              "Geo point              0\n",
              "Postal code            0\n",
              "Public name            0\n",
              "Slots                  0\n",
              "Station type           0\n",
              "Subscription status    0\n",
              "month                  0\n",
              "day                    0\n",
              "hour                   0\n",
              "minute                 0\n",
              "dtype: int64"
            ]
          },
          "metadata": {
            "tags": []
          },
          "execution_count": 239
        }
      ]
    },
    {
      "cell_type": "code",
      "metadata": {
        "id": "XCuYYd21lwQR",
        "colab_type": "code",
        "colab": {
          "base_uri": "https://localhost:8080/",
          "height": 440
        },
        "outputId": "73ca2e64-e75e-42ce-cb47-7f9be0a3b25b"
      },
      "source": [
        "df.info()"
      ],
      "execution_count": 184,
      "outputs": [
        {
          "output_type": "stream",
          "text": [
            "<class 'pandas.core.frame.DataFrame'>\n",
            "Int64Index: 2961 entries, 0 to 4999\n",
            "Data columns (total 19 columns):\n",
            " #   Column               Non-Null Count  Dtype \n",
            "---  ------               --------------  ----- \n",
            " 0   Address              2961 non-null   object\n",
            " 1   Cars                 2961 non-null   int64 \n",
            " 2   Bluecar counter      2961 non-null   int64 \n",
            " 3   Utilib counter       2961 non-null   int64 \n",
            " 4   Utilib 1.4 counter   2961 non-null   int64 \n",
            " 5   Charge Slots         2961 non-null   int64 \n",
            " 6   Charging Status      2961 non-null   object\n",
            " 7   ID                   2961 non-null   object\n",
            " 8   Kind                 2961 non-null   object\n",
            " 9   Geo point            2961 non-null   object\n",
            " 10  Postal code          2961 non-null   int64 \n",
            " 11  Public name          2961 non-null   object\n",
            " 12  Slots                2961 non-null   int64 \n",
            " 13  Station type         2961 non-null   object\n",
            " 14  Subscription status  2961 non-null   object\n",
            " 15  month                2961 non-null   int64 \n",
            " 16  day                  2961 non-null   int64 \n",
            " 17  hour                 2961 non-null   int64 \n",
            " 18  minute               2961 non-null   int64 \n",
            "dtypes: int64(11), object(8)\n",
            "memory usage: 462.7+ KB\n"
          ],
          "name": "stdout"
        }
      ]
    },
    {
      "cell_type": "markdown",
      "metadata": {
        "id": "RTtJKENJXrA8",
        "colab_type": "text"
      },
      "source": [
        "###consistency"
      ]
    },
    {
      "cell_type": "code",
      "metadata": {
        "id": "HwG9vlRgcEq3",
        "colab_type": "code",
        "colab": {
          "base_uri": "https://localhost:8080/",
          "height": 33
        },
        "outputId": "68acac0c-3bac-4c67-92e8-4ac621b7a521"
      },
      "source": [
        "df.duplicated().sum()"
      ],
      "execution_count": 237,
      "outputs": [
        {
          "output_type": "execute_result",
          "data": {
            "text/plain": [
              "0"
            ]
          },
          "metadata": {
            "tags": []
          },
          "execution_count": 237
        }
      ]
    },
    {
      "cell_type": "markdown",
      "metadata": {
        "id": "OoOBw7HDITyL",
        "colab_type": "text"
      },
      "source": [
        "Blue cars"
      ]
    },
    {
      "cell_type": "code",
      "metadata": {
        "id": "TVou7U3SITZb",
        "colab_type": "code",
        "colab": {}
      },
      "source": [
        "blue=df_p[['ID','Postal code','Slots','Charge Slots','Bluecar counter','day','hour','minute']]"
      ],
      "execution_count": 376,
      "outputs": []
    },
    {
      "cell_type": "code",
      "metadata": {
        "id": "obnITWy0NC1G",
        "colab_type": "code",
        "colab": {}
      },
      "source": [
        "blue=blue[blue['Bluecar counter']>0]"
      ],
      "execution_count": 377,
      "outputs": []
    },
    {
      "cell_type": "markdown",
      "metadata": {
        "id": "F_2p9JqCt2Dy",
        "colab_type": "text"
      },
      "source": [
        "##Analysis"
      ]
    },
    {
      "cell_type": "markdown",
      "metadata": {
        "id": "--lsnbHhSAyn",
        "colab_type": "text"
      },
      "source": [
        "####Identify the most popular hour of the day for picking up a shared electric car (Bluecar) in the city of Paris\n",
        "\n",
        "8 pm"
      ]
    },
    {
      "cell_type": "markdown",
      "metadata": {
        "id": "nKKr2yi9ST-y",
        "colab_type": "text"
      },
      "source": [
        "getting sum of all vehicles in the stations per hour"
      ]
    },
    {
      "cell_type": "code",
      "metadata": {
        "id": "lpzymGzBd9Qz",
        "colab_type": "code",
        "colab": {
          "base_uri": "https://localhost:8080/",
          "height": 162
        },
        "outputId": "9271e3b2-a3a5-4d9d-d61d-b28e0068d5bf"
      },
      "source": [
        "blue[['Bluecar counter']].groupby(by=blue['hour']).sum().sort_values('Bluecar counter',ascending=True).head(3)"
      ],
      "execution_count": 429,
      "outputs": [
        {
          "output_type": "execute_result",
          "data": {
            "text/html": [
              "<div>\n",
              "<style scoped>\n",
              "    .dataframe tbody tr th:only-of-type {\n",
              "        vertical-align: middle;\n",
              "    }\n",
              "\n",
              "    .dataframe tbody tr th {\n",
              "        vertical-align: top;\n",
              "    }\n",
              "\n",
              "    .dataframe thead th {\n",
              "        text-align: right;\n",
              "    }\n",
              "</style>\n",
              "<table border=\"1\" class=\"dataframe\">\n",
              "  <thead>\n",
              "    <tr style=\"text-align: right;\">\n",
              "      <th></th>\n",
              "      <th>Bluecar counter</th>\n",
              "    </tr>\n",
              "    <tr>\n",
              "      <th>hour</th>\n",
              "      <th></th>\n",
              "    </tr>\n",
              "  </thead>\n",
              "  <tbody>\n",
              "    <tr>\n",
              "      <th>20</th>\n",
              "      <td>149</td>\n",
              "    </tr>\n",
              "    <tr>\n",
              "      <th>14</th>\n",
              "      <td>163</td>\n",
              "    </tr>\n",
              "    <tr>\n",
              "      <th>17</th>\n",
              "      <td>187</td>\n",
              "    </tr>\n",
              "  </tbody>\n",
              "</table>\n",
              "</div>"
            ],
            "text/plain": [
              "      Bluecar counter\n",
              "hour                 \n",
              "20                149\n",
              "14                163\n",
              "17                187"
            ]
          },
          "metadata": {
            "tags": []
          },
          "execution_count": 429
        }
      ]
    },
    {
      "cell_type": "code",
      "metadata": {
        "id": "Y0M4XOp4dJfT",
        "colab_type": "code",
        "colab": {
          "base_uri": "https://localhost:8080/",
          "height": 298
        },
        "outputId": "cf749adf-5601-4b91-c009-0bf73516a112"
      },
      "source": [
        "blue['Bluecar counter'].groupby(by=blue['hour']).sum().plot(kind='bar')"
      ],
      "execution_count": 418,
      "outputs": [
        {
          "output_type": "execute_result",
          "data": {
            "text/plain": [
              "<matplotlib.axes._subplots.AxesSubplot at 0x7fe668c84198>"
            ]
          },
          "metadata": {
            "tags": []
          },
          "execution_count": 418
        },
        {
          "output_type": "display_data",
          "data": {
            "image/png": "[encoded data removed]",
            "text/plain": [
              "<Figure size 432x288 with 1 Axes>"
            ]
          },
          "metadata": {
            "tags": [],
            "needs_background": "light"
          }
        }
      ]
    },
    {
      "cell_type": "markdown",
      "metadata": {
        "id": "gn-ocVLifSi_",
        "colab_type": "text"
      },
      "source": [
        "####What is the most popular hour for returning cars?\n",
        "\n",
        "9 pm"
      ]
    },
    {
      "cell_type": "code",
      "metadata": {
        "id": "raZDY9dne9fN",
        "colab_type": "code",
        "colab": {
          "base_uri": "https://localhost:8080/",
          "height": 162
        },
        "outputId": "04b827a4-1121-42f3-8e18-1248edcff681"
      },
      "source": [
        "blue[['Bluecar counter']].groupby(by=blue['hour']).sum().sort_values('Bluecar counter',ascending=False).head(3)"
      ],
      "execution_count": null,
      "outputs": [
        {
          "output_type": "execute_result",
          "data": {
            "text/html": [
              "<div>\n",
              "<style scoped>\n",
              "    .dataframe tbody tr th:only-of-type {\n",
              "        vertical-align: middle;\n",
              "    }\n",
              "\n",
              "    .dataframe tbody tr th {\n",
              "        vertical-align: top;\n",
              "    }\n",
              "\n",
              "    .dataframe thead th {\n",
              "        text-align: right;\n",
              "    }\n",
              "</style>\n",
              "<table border=\"1\" class=\"dataframe\">\n",
              "  <thead>\n",
              "    <tr style=\"text-align: right;\">\n",
              "      <th></th>\n",
              "      <th>Bluecar counter</th>\n",
              "    </tr>\n",
              "    <tr>\n",
              "      <th>hour</th>\n",
              "      <th></th>\n",
              "    </tr>\n",
              "  </thead>\n",
              "  <tbody>\n",
              "    <tr>\n",
              "      <th>21</th>\n",
              "      <td>268</td>\n",
              "    </tr>\n",
              "    <tr>\n",
              "      <th>6</th>\n",
              "      <td>260</td>\n",
              "    </tr>\n",
              "    <tr>\n",
              "      <th>12</th>\n",
              "      <td>250</td>\n",
              "    </tr>\n",
              "  </tbody>\n",
              "</table>\n",
              "</div>"
            ],
            "text/plain": [
              "      Bluecar counter\n",
              "hour                 \n",
              "21                268\n",
              "6                 260\n",
              "12                250"
            ]
          },
          "metadata": {
            "tags": []
          },
          "execution_count": 430
        }
      ]
    },
    {
      "cell_type": "markdown",
      "metadata": {
        "id": "_Nr6X03OCP89",
        "colab_type": "text"
      },
      "source": [
        "####What station is the most popular?"
      ]
    },
    {
      "cell_type": "markdown",
      "metadata": {
        "id": "xpHv6P_63121",
        "colab_type": "text"
      },
      "source": [
        "Overall\n",
        "\n",
        "paris-portedemontrouge-8"
      ]
    },
    {
      "cell_type": "markdown",
      "metadata": {
        "id": "R34puCVjSdP3",
        "colab_type": "text"
      },
      "source": [
        "gettting the Stations with the highest count as they will be most accessed"
      ]
    },
    {
      "cell_type": "code",
      "metadata": {
        "id": "Fs38BG9tCRxi",
        "colab_type": "code",
        "colab": {
          "base_uri": "https://localhost:8080/",
          "height": 162
        },
        "outputId": "ec8ba4e5-ff12-45a1-80de-2a8592629bf8"
      },
      "source": [
        "df.pivot_table(index=df['ID'] ,values = \"Bluecar counter\" , aggfunc ='count').sort_values('Bluecar counter',ascending=False).head(3)"
      ],
      "execution_count": 392,
      "outputs": [
        {
          "output_type": "execute_result",
          "data": {
            "text/html": [
              "<div>\n",
              "<style scoped>\n",
              "    .dataframe tbody tr th:only-of-type {\n",
              "        vertical-align: middle;\n",
              "    }\n",
              "\n",
              "    .dataframe tbody tr th {\n",
              "        vertical-align: top;\n",
              "    }\n",
              "\n",
              "    .dataframe thead th {\n",
              "        text-align: right;\n",
              "    }\n",
              "</style>\n",
              "<table border=\"1\" class=\"dataframe\">\n",
              "  <thead>\n",
              "    <tr style=\"text-align: right;\">\n",
              "      <th></th>\n",
              "      <th>Bluecar counter</th>\n",
              "    </tr>\n",
              "    <tr>\n",
              "      <th>ID</th>\n",
              "      <th></th>\n",
              "    </tr>\n",
              "  </thead>\n",
              "  <tbody>\n",
              "    <tr>\n",
              "      <th>paris-portedemontrouge-8</th>\n",
              "      <td>13</td>\n",
              "    </tr>\n",
              "    <tr>\n",
              "      <th>paris-courcelles-69</th>\n",
              "      <td>11</td>\n",
              "    </tr>\n",
              "    <tr>\n",
              "      <th>sevres-wolfenbuttel-1</th>\n",
              "      <td>11</td>\n",
              "    </tr>\n",
              "  </tbody>\n",
              "</table>\n",
              "</div>"
            ],
            "text/plain": [
              "                          Bluecar counter\n",
              "ID                                       \n",
              "paris-portedemontrouge-8               13\n",
              "paris-courcelles-69                    11\n",
              "sevres-wolfenbuttel-1                  11"
            ]
          },
          "metadata": {
            "tags": []
          },
          "execution_count": 392
        }
      ]
    },
    {
      "cell_type": "markdown",
      "metadata": {
        "id": "yG-VfGia3_nR",
        "colab_type": "text"
      },
      "source": [
        "at the most popular picking hour\n",
        "\n",
        "paris-tronchet-19"
      ]
    },
    {
      "cell_type": "code",
      "metadata": {
        "id": "OIXYYE5yEcBp",
        "colab_type": "code",
        "colab": {
          "base_uri": "https://localhost:8080/",
          "height": 162
        },
        "outputId": "710818ea-3243-4a8b-8b2d-f7177ab5a7a4"
      },
      "source": [
        "df.pivot_table(index=df[['ID','hour']] ,values = \"Bluecar counter\" , aggfunc ='count').sort_values('Bluecar counter',ascending=False).head(3)"
      ],
      "execution_count": 401,
      "outputs": [
        {
          "output_type": "execute_result",
          "data": {
            "text/html": [
              "<div>\n",
              "<style scoped>\n",
              "    .dataframe tbody tr th:only-of-type {\n",
              "        vertical-align: middle;\n",
              "    }\n",
              "\n",
              "    .dataframe tbody tr th {\n",
              "        vertical-align: top;\n",
              "    }\n",
              "\n",
              "    .dataframe thead th {\n",
              "        text-align: right;\n",
              "    }\n",
              "</style>\n",
              "<table border=\"1\" class=\"dataframe\">\n",
              "  <thead>\n",
              "    <tr style=\"text-align: right;\">\n",
              "      <th></th>\n",
              "      <th></th>\n",
              "      <th>Bluecar counter</th>\n",
              "    </tr>\n",
              "    <tr>\n",
              "      <th>ID</th>\n",
              "      <th>hour</th>\n",
              "      <th></th>\n",
              "    </tr>\n",
              "  </thead>\n",
              "  <tbody>\n",
              "    <tr>\n",
              "      <th>paris-tronchet-19</th>\n",
              "      <th>21</th>\n",
              "      <td>4</td>\n",
              "    </tr>\n",
              "    <tr>\n",
              "      <th>paris-paradis-28</th>\n",
              "      <th>20</th>\n",
              "      <td>4</td>\n",
              "    </tr>\n",
              "    <tr>\n",
              "      <th>paris-fabredeglantine-2</th>\n",
              "      <th>0</th>\n",
              "      <td>3</td>\n",
              "    </tr>\n",
              "  </tbody>\n",
              "</table>\n",
              "</div>"
            ],
            "text/plain": [
              "                              Bluecar counter\n",
              "ID                      hour                 \n",
              "paris-tronchet-19       21                  4\n",
              "paris-paradis-28        20                  4\n",
              "paris-fabredeglantine-2 0                   3"
            ]
          },
          "metadata": {
            "tags": []
          },
          "execution_count": 401
        }
      ]
    },
    {
      "cell_type": "markdown",
      "metadata": {
        "id": "fG1JLrk4JA1r",
        "colab_type": "text"
      },
      "source": [
        "####What postal code is the most popular for picking up Blue cars?\n",
        "\n",
        "Postal code 75015"
      ]
    },
    {
      "cell_type": "markdown",
      "metadata": {
        "id": "Vb9kAjnoSpCL",
        "colab_type": "text"
      },
      "source": [
        "gettting the Postal code with the highest count as they will be most accessed"
      ]
    },
    {
      "cell_type": "code",
      "metadata": {
        "id": "UYoNPy0oABZI",
        "colab_type": "code",
        "colab": {
          "base_uri": "https://localhost:8080/",
          "height": 162
        },
        "outputId": "33e54eb1-f912-47c3-c432-9be4eadacdff"
      },
      "source": [
        "blue.pivot_table(index=blue['Postal code'] ,values = \"Bluecar counter\" , aggfunc ='count').sort_values('Bluecar counter',ascending=False).head(3)"
      ],
      "execution_count": 411,
      "outputs": [
        {
          "output_type": "execute_result",
          "data": {
            "text/html": [
              "<div>\n",
              "<style scoped>\n",
              "    .dataframe tbody tr th:only-of-type {\n",
              "        vertical-align: middle;\n",
              "    }\n",
              "\n",
              "    .dataframe tbody tr th {\n",
              "        vertical-align: top;\n",
              "    }\n",
              "\n",
              "    .dataframe thead th {\n",
              "        text-align: right;\n",
              "    }\n",
              "</style>\n",
              "<table border=\"1\" class=\"dataframe\">\n",
              "  <thead>\n",
              "    <tr style=\"text-align: right;\">\n",
              "      <th></th>\n",
              "      <th>Bluecar counter</th>\n",
              "    </tr>\n",
              "    <tr>\n",
              "      <th>Postal code</th>\n",
              "      <th></th>\n",
              "    </tr>\n",
              "  </thead>\n",
              "  <tbody>\n",
              "    <tr>\n",
              "      <th>75015</th>\n",
              "      <td>195</td>\n",
              "    </tr>\n",
              "    <tr>\n",
              "      <th>75016</th>\n",
              "      <td>181</td>\n",
              "    </tr>\n",
              "    <tr>\n",
              "      <th>75017</th>\n",
              "      <td>177</td>\n",
              "    </tr>\n",
              "  </tbody>\n",
              "</table>\n",
              "</div>"
            ],
            "text/plain": [
              "             Bluecar counter\n",
              "Postal code                 \n",
              "75015                    195\n",
              "75016                    181\n",
              "75017                    177"
            ]
          },
          "metadata": {
            "tags": []
          },
          "execution_count": 411
        }
      ]
    },
    {
      "cell_type": "markdown",
      "metadata": {
        "id": "VnarYDRWJH9n",
        "colab_type": "text"
      },
      "source": [
        "Does the most popular station belong to that postal code?"
      ]
    },
    {
      "cell_type": "markdown",
      "metadata": {
        "id": "C5svKdBpLN_j",
        "colab_type": "text"
      },
      "source": [
        "Overall?\n",
        "No"
      ]
    },
    {
      "cell_type": "code",
      "metadata": {
        "id": "HFFBa647JJaL",
        "colab_type": "code",
        "colab": {
          "base_uri": "https://localhost:8080/",
          "height": 421
        },
        "outputId": "a4ead932-5a0d-44f7-cbb2-ae6f9ad7e0ee"
      },
      "source": [
        "df[['ID','Postal code']][df.ID=='paris-portedemontrouge-8']"
      ],
      "execution_count": 412,
      "outputs": [
        {
          "output_type": "execute_result",
          "data": {
            "text/html": [
              "<div>\n",
              "<style scoped>\n",
              "    .dataframe tbody tr th:only-of-type {\n",
              "        vertical-align: middle;\n",
              "    }\n",
              "\n",
              "    .dataframe tbody tr th {\n",
              "        vertical-align: top;\n",
              "    }\n",
              "\n",
              "    .dataframe thead th {\n",
              "        text-align: right;\n",
              "    }\n",
              "</style>\n",
              "<table border=\"1\" class=\"dataframe\">\n",
              "  <thead>\n",
              "    <tr style=\"text-align: right;\">\n",
              "      <th></th>\n",
              "      <th>ID</th>\n",
              "      <th>Postal code</th>\n",
              "    </tr>\n",
              "  </thead>\n",
              "  <tbody>\n",
              "    <tr>\n",
              "      <th>122</th>\n",
              "      <td>paris-portedemontrouge-8</td>\n",
              "      <td>75014</td>\n",
              "    </tr>\n",
              "    <tr>\n",
              "      <th>194</th>\n",
              "      <td>paris-portedemontrouge-8</td>\n",
              "      <td>75014</td>\n",
              "    </tr>\n",
              "    <tr>\n",
              "      <th>360</th>\n",
              "      <td>paris-portedemontrouge-8</td>\n",
              "      <td>75014</td>\n",
              "    </tr>\n",
              "    <tr>\n",
              "      <th>1010</th>\n",
              "      <td>paris-portedemontrouge-8</td>\n",
              "      <td>75014</td>\n",
              "    </tr>\n",
              "    <tr>\n",
              "      <th>1282</th>\n",
              "      <td>paris-portedemontrouge-8</td>\n",
              "      <td>75014</td>\n",
              "    </tr>\n",
              "    <tr>\n",
              "      <th>1527</th>\n",
              "      <td>paris-portedemontrouge-8</td>\n",
              "      <td>75014</td>\n",
              "    </tr>\n",
              "    <tr>\n",
              "      <th>2112</th>\n",
              "      <td>paris-portedemontrouge-8</td>\n",
              "      <td>75014</td>\n",
              "    </tr>\n",
              "    <tr>\n",
              "      <th>2179</th>\n",
              "      <td>paris-portedemontrouge-8</td>\n",
              "      <td>75014</td>\n",
              "    </tr>\n",
              "    <tr>\n",
              "      <th>2991</th>\n",
              "      <td>paris-portedemontrouge-8</td>\n",
              "      <td>75014</td>\n",
              "    </tr>\n",
              "    <tr>\n",
              "      <th>3307</th>\n",
              "      <td>paris-portedemontrouge-8</td>\n",
              "      <td>75014</td>\n",
              "    </tr>\n",
              "    <tr>\n",
              "      <th>3392</th>\n",
              "      <td>paris-portedemontrouge-8</td>\n",
              "      <td>75014</td>\n",
              "    </tr>\n",
              "    <tr>\n",
              "      <th>3558</th>\n",
              "      <td>paris-portedemontrouge-8</td>\n",
              "      <td>75014</td>\n",
              "    </tr>\n",
              "    <tr>\n",
              "      <th>4490</th>\n",
              "      <td>paris-portedemontrouge-8</td>\n",
              "      <td>75014</td>\n",
              "    </tr>\n",
              "  </tbody>\n",
              "</table>\n",
              "</div>"
            ],
            "text/plain": [
              "                            ID  Postal code\n",
              "122   paris-portedemontrouge-8        75014\n",
              "194   paris-portedemontrouge-8        75014\n",
              "360   paris-portedemontrouge-8        75014\n",
              "1010  paris-portedemontrouge-8        75014\n",
              "1282  paris-portedemontrouge-8        75014\n",
              "1527  paris-portedemontrouge-8        75014\n",
              "2112  paris-portedemontrouge-8        75014\n",
              "2179  paris-portedemontrouge-8        75014\n",
              "2991  paris-portedemontrouge-8        75014\n",
              "3307  paris-portedemontrouge-8        75014\n",
              "3392  paris-portedemontrouge-8        75014\n",
              "3558  paris-portedemontrouge-8        75014\n",
              "4490  paris-portedemontrouge-8        75014"
            ]
          },
          "metadata": {
            "tags": []
          },
          "execution_count": 412
        }
      ]
    },
    {
      "cell_type": "markdown",
      "metadata": {
        "id": "rTP4zGv0LSBl",
        "colab_type": "text"
      },
      "source": [
        "At popular picking hour"
      ]
    },
    {
      "cell_type": "code",
      "metadata": {
        "id": "ytxDrmrvLLaK",
        "colab_type": "code",
        "colab": {
          "base_uri": "https://localhost:8080/",
          "height": 248
        },
        "outputId": "0d5534f4-6d78-4359-d7ca-e8d67feef163"
      },
      "source": [
        "df[['ID','Postal code']][df.ID=='paris-tronchet-19']"
      ],
      "execution_count": 413,
      "outputs": [
        {
          "output_type": "execute_result",
          "data": {
            "text/html": [
              "<div>\n",
              "<style scoped>\n",
              "    .dataframe tbody tr th:only-of-type {\n",
              "        vertical-align: middle;\n",
              "    }\n",
              "\n",
              "    .dataframe tbody tr th {\n",
              "        vertical-align: top;\n",
              "    }\n",
              "\n",
              "    .dataframe thead th {\n",
              "        text-align: right;\n",
              "    }\n",
              "</style>\n",
              "<table border=\"1\" class=\"dataframe\">\n",
              "  <thead>\n",
              "    <tr style=\"text-align: right;\">\n",
              "      <th></th>\n",
              "      <th>ID</th>\n",
              "      <th>Postal code</th>\n",
              "    </tr>\n",
              "  </thead>\n",
              "  <tbody>\n",
              "    <tr>\n",
              "      <th>600</th>\n",
              "      <td>paris-tronchet-19</td>\n",
              "      <td>75008</td>\n",
              "    </tr>\n",
              "    <tr>\n",
              "      <th>1630</th>\n",
              "      <td>paris-tronchet-19</td>\n",
              "      <td>75008</td>\n",
              "    </tr>\n",
              "    <tr>\n",
              "      <th>2172</th>\n",
              "      <td>paris-tronchet-19</td>\n",
              "      <td>75008</td>\n",
              "    </tr>\n",
              "    <tr>\n",
              "      <th>2873</th>\n",
              "      <td>paris-tronchet-19</td>\n",
              "      <td>75008</td>\n",
              "    </tr>\n",
              "    <tr>\n",
              "      <th>2885</th>\n",
              "      <td>paris-tronchet-19</td>\n",
              "      <td>75008</td>\n",
              "    </tr>\n",
              "    <tr>\n",
              "      <th>3219</th>\n",
              "      <td>paris-tronchet-19</td>\n",
              "      <td>75008</td>\n",
              "    </tr>\n",
              "    <tr>\n",
              "      <th>4129</th>\n",
              "      <td>paris-tronchet-19</td>\n",
              "      <td>75008</td>\n",
              "    </tr>\n",
              "  </tbody>\n",
              "</table>\n",
              "</div>"
            ],
            "text/plain": [
              "                     ID  Postal code\n",
              "600   paris-tronchet-19        75008\n",
              "1630  paris-tronchet-19        75008\n",
              "2172  paris-tronchet-19        75008\n",
              "2873  paris-tronchet-19        75008\n",
              "2885  paris-tronchet-19        75008\n",
              "3219  paris-tronchet-19        75008\n",
              "4129  paris-tronchet-19        75008"
            ]
          },
          "metadata": {
            "tags": []
          },
          "execution_count": 413
        }
      ]
    },
    {
      "cell_type": "markdown",
      "metadata": {
        "id": "W6c3EkgiH3yY",
        "colab_type": "text"
      },
      "source": [
        "Do the results change if you consider Utilib and Utilib 1.4 instead of Blue cars?"
      ]
    },
    {
      "cell_type": "code",
      "metadata": {
        "id": "7FS0T30CH4KJ",
        "colab_type": "code",
        "colab": {}
      },
      "source": [
        ""
      ],
      "execution_count": null,
      "outputs": []
    }
  ]
}