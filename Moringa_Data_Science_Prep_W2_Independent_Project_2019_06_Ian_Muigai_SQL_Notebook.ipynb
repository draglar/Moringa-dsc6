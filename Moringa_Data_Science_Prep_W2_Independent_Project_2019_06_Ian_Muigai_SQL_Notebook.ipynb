{
  "nbformat": 4,
  "nbformat_minor": 0,
  "metadata": {
    "colab": {
      "name": "Moringa_Data_Science_Prep_W2_Independent_Project_2019_06_Ian_Muigai_SQL_Notebook",
      "provenance": [],
      "collapsed_sections": [],
      "toc_visible": true,
      "authorship_tag": "ABX9TyNnN3ZdUmkjvOwVNHFezZgM",
      "include_colab_link": true
    },
    "kernelspec": {
      "name": "python3",
      "display_name": "Python 3"
    }
  },
  "cells": [
    {
      "cell_type": "markdown",
      "metadata": {
        "id": "view-in-github",
        "colab_type": "text"
      },
      "source": [
        "<a href=\"https://colab.research.google.com/github/draglar/Moringa-dsc6/blob/master/Moringa_Data_Science_Prep_W2_Independent_Project_2019_06_Ian_Muigai_SQL_Notebook.ipynb\" target=\"_parent\"><img src=\"https://colab.research.google.com/assets/colab-badge.svg\" alt=\"Open In Colab\"/></a>"
      ]
    },
    {
      "cell_type": "markdown",
      "metadata": {
        "id": "GlZHGHqKDyvU",
        "colab_type": "text"
      },
      "source": [
        "\n",
        "### loading the extension and opening the files\n"
      ]
    },
    {
      "cell_type": "code",
      "metadata": {
        "id": "g9aUZHwXDOj-",
        "colab_type": "code",
        "colab": {}
      },
      "source": [
        "%load_ext sql\n",
        "%sql sqlite://\n",
        "import csv\n",
        "import pandas as pd"
      ],
      "execution_count": null,
      "outputs": []
    },
    {
      "cell_type": "code",
      "metadata": {
        "id": "38FUSBYcsAIs",
        "colab_type": "code",
        "colab": {
          "base_uri": "https://localhost:8080/",
          "height": 213
        },
        "outputId": "9ea89a81-6e16-463d-91b5-d8d191f13164"
      },
      "source": [
        "with open('Population_by_state.csv','r') as f:\n",
        "  population=pd.read_csv(f,index_col=0,encoding='uft-8')\n",
        "%sql drop table if exists population \n",
        "%sql persist population\n",
        "%sql select * from population order by State limit 5"
      ],
      "execution_count": null,
      "outputs": [
        {
          "output_type": "stream",
          "text": [
            " * sqlite://\n",
            "Done.\n",
            " * sqlite://\n",
            " * sqlite://\n",
            "Done.\n"
          ],
          "name": "stdout"
        },
        {
          "output_type": "execute_result",
          "data": {
            "text/html": [
              "<table>\n",
              "    <tr>\n",
              "        <th>State</th>\n",
              "        <th>Population</th>\n",
              "    </tr>\n",
              "    <tr>\n",
              "        <td>ALABAMA</td>\n",
              "        <td>4858979</td>\n",
              "    </tr>\n",
              "    <tr>\n",
              "        <td>ALASKA</td>\n",
              "        <td>738432</td>\n",
              "    </tr>\n",
              "    <tr>\n",
              "        <td>AMERICAN SAMOA</td>\n",
              "        <td>54343</td>\n",
              "    </tr>\n",
              "    <tr>\n",
              "        <td>ARIZONA</td>\n",
              "        <td>6828065</td>\n",
              "    </tr>\n",
              "    <tr>\n",
              "        <td>ARKANSAS</td>\n",
              "        <td>2978204</td>\n",
              "    </tr>\n",
              "</table>"
            ],
            "text/plain": [
              "[('ALABAMA', 4858979),\n",
              " ('ALASKA', 738432),\n",
              " ('AMERICAN SAMOA', 54343),\n",
              " ('ARIZONA', 6828065),\n",
              " ('ARKANSAS', 2978204)]"
            ]
          },
          "metadata": {
            "tags": []
          },
          "execution_count": 2
        }
      ]
    },
    {
      "cell_type": "code",
      "metadata": {
        "id": "kL2HIMOduqNg",
        "colab_type": "code",
        "colab": {
          "base_uri": "https://localhost:8080/",
          "height": 213
        },
        "outputId": "85a03076-3f4d-4e79-f65e-673172a16a65"
      },
      "source": [
        "with open('GrandElectors_by_state.csv','r') as e:\n",
        "  electors=pd.read_csv(e,index_col=0,encoding='uft-8')\n",
        "%sql drop table if exists electors\n",
        "%sql persist electors\n",
        "%sql select * from electors order by State limit 5"
      ],
      "execution_count": null,
      "outputs": [
        {
          "output_type": "stream",
          "text": [
            " * sqlite://\n",
            "Done.\n",
            " * sqlite://\n",
            " * sqlite://\n",
            "Done.\n"
          ],
          "name": "stdout"
        },
        {
          "output_type": "execute_result",
          "data": {
            "text/html": [
              "<table>\n",
              "    <tr>\n",
              "        <th>State</th>\n",
              "        <th>GrandElectors</th>\n",
              "    </tr>\n",
              "    <tr>\n",
              "        <td>Alabama</td>\n",
              "        <td>9</td>\n",
              "    </tr>\n",
              "    <tr>\n",
              "        <td>Alaska</td>\n",
              "        <td>3</td>\n",
              "    </tr>\n",
              "    <tr>\n",
              "        <td>Arizona</td>\n",
              "        <td>11</td>\n",
              "    </tr>\n",
              "    <tr>\n",
              "        <td>Arkansas</td>\n",
              "        <td>6</td>\n",
              "    </tr>\n",
              "    <tr>\n",
              "        <td>California</td>\n",
              "        <td>55</td>\n",
              "    </tr>\n",
              "</table>"
            ],
            "text/plain": [
              "[('Alabama', 9),\n",
              " ('Alaska', 3),\n",
              " ('Arizona', 11),\n",
              " ('Arkansas', 6),\n",
              " ('California', 55)]"
            ]
          },
          "metadata": {
            "tags": []
          },
          "execution_count": 3
        }
      ]
    },
    {
      "cell_type": "markdown",
      "metadata": {
        "id": "z3fBasDg9_qr",
        "colab_type": "text"
      },
      "source": [
        "### 1:To join the 2 tables:\n",
        "You notice States are not capitalized the same way in both tables (one is in uppercase letters, the other not), so you will first need to convert all to uppercase, for instance.\n",
        "Now you can join the tables on the state key."
      ]
    },
    {
      "cell_type": "markdown",
      "metadata": {
        "id": "igmB_VddAzJ4",
        "colab_type": "text"
      },
      "source": [
        "lower case is just my preference because its easier to read"
      ]
    },
    {
      "cell_type": "code",
      "metadata": {
        "id": "xYBjzncy-BH3",
        "colab_type": "code",
        "colab": {
          "base_uri": "https://localhost:8080/",
          "height": 87
        },
        "outputId": "f3493d47-c17f-4884-8126-b87351a9a5c4"
      },
      "source": [
        "%%sql\n",
        "update population\n",
        "set State=lower(State);\n",
        "update electors\n",
        "set State=lower(State);"
      ],
      "execution_count": null,
      "outputs": [
        {
          "output_type": "stream",
          "text": [
            " * sqlite://\n",
            "56 rows affected.\n",
            "51 rows affected.\n"
          ],
          "name": "stdout"
        },
        {
          "output_type": "execute_result",
          "data": {
            "text/plain": [
              "[]"
            ]
          },
          "metadata": {
            "tags": []
          },
          "execution_count": 4
        }
      ]
    },
    {
      "cell_type": "markdown",
      "metadata": {
        "id": "x7luB54DqCv7",
        "colab_type": "text"
      },
      "source": [
        "### 2: change the name of the \"District of Columbia\" state to its short version \"DC\"."
      ]
    },
    {
      "cell_type": "code",
      "metadata": {
        "id": "7TfJDShJqDNr",
        "colab_type": "code",
        "colab": {
          "base_uri": "https://localhost:8080/",
          "height": 87
        },
        "outputId": "e543d202-ebf5-40a2-c00a-b2ad22a4243f"
      },
      "source": [
        "%%sql\n",
        "update population\n",
        "set State=\"dc\" where State=\"district of columbia\";\n",
        "update electors\n",
        "set State=\"dc\" where State=\"district of columbia\""
      ],
      "execution_count": null,
      "outputs": [
        {
          "output_type": "stream",
          "text": [
            " * sqlite://\n",
            "1 rows affected.\n",
            "1 rows affected.\n"
          ],
          "name": "stdout"
        },
        {
          "output_type": "execute_result",
          "data": {
            "text/plain": [
              "[]"
            ]
          },
          "metadata": {
            "tags": []
          },
          "execution_count": 5
        }
      ]
    },
    {
      "cell_type": "markdown",
      "metadata": {
        "id": "8jQv1MI_Dg3w",
        "colab_type": "text"
      },
      "source": [
        "### 3:To compute the ratio between the number of grand electors and the population. Please create a new column with that ratio."
      ]
    },
    {
      "cell_type": "markdown",
      "metadata": {
        "id": "bAm3EzDsDyaG",
        "colab_type": "text"
      },
      "source": [
        "ratio== 1 elector represents x number of people in a State"
      ]
    },
    {
      "cell_type": "code",
      "metadata": {
        "id": "Mb5f4u-XER0X",
        "colab_type": "code",
        "colab": {
          "base_uri": "https://localhost:8080/",
          "height": 70
        },
        "outputId": "10a1a4fa-3e47-41a4-c5ed-b40e2b5544fc"
      },
      "source": [
        "%sql alter table population add ratio"
      ],
      "execution_count": null,
      "outputs": [
        {
          "output_type": "stream",
          "text": [
            " * sqlite://\n",
            "Done.\n"
          ],
          "name": "stdout"
        },
        {
          "output_type": "execute_result",
          "data": {
            "text/plain": [
              "[]"
            ]
          },
          "metadata": {
            "tags": []
          },
          "execution_count": 6
        }
      ]
    },
    {
      "cell_type": "code",
      "metadata": {
        "id": "SyfjLHVoaJhL",
        "colab_type": "code",
        "colab": {
          "base_uri": "https://localhost:8080/",
          "height": 70
        },
        "outputId": "f624ccb7-cb79-42a0-f2a2-9ff71ed54b16"
      },
      "source": [
        "%%sql\n",
        "update population\n",
        "set ratio=(select Population/GrandElectors from electors where electors.State=population.State)"
      ],
      "execution_count": null,
      "outputs": [
        {
          "output_type": "stream",
          "text": [
            " * sqlite://\n",
            "56 rows affected.\n"
          ],
          "name": "stdout"
        },
        {
          "output_type": "execute_result",
          "data": {
            "text/plain": [
              "[]"
            ]
          },
          "metadata": {
            "tags": []
          },
          "execution_count": 7
        }
      ]
    },
    {
      "cell_type": "markdown",
      "metadata": {
        "id": "GsNe5mqOoG34",
        "colab_type": "text"
      },
      "source": [
        "since the only unique column from  the GrandElectors_by_state.csv is Grandelectors i updated the Population_by_state.csv with the values for ease of use and to reduce the size of code needed to solve the task"
      ]
    },
    {
      "cell_type": "code",
      "metadata": {
        "id": "ARRsORgVnf6v",
        "colab_type": "code",
        "colab": {
          "base_uri": "https://localhost:8080/",
          "height": 70
        },
        "outputId": "bfd98e1d-63b7-42e0-cfca-9340077b97f8"
      },
      "source": [
        "%sql alter table population add Electors"
      ],
      "execution_count": null,
      "outputs": [
        {
          "output_type": "stream",
          "text": [
            " * sqlite://\n",
            "Done.\n"
          ],
          "name": "stdout"
        },
        {
          "output_type": "execute_result",
          "data": {
            "text/plain": [
              "[]"
            ]
          },
          "metadata": {
            "tags": []
          },
          "execution_count": 8
        }
      ]
    },
    {
      "cell_type": "markdown",
      "metadata": {
        "id": "r7zx2zlaz0QT",
        "colab_type": "text"
      },
      "source": [
        "populating the column"
      ]
    },
    {
      "cell_type": "code",
      "metadata": {
        "id": "mc2Wu69qnkZ0",
        "colab_type": "code",
        "colab": {
          "base_uri": "https://localhost:8080/",
          "height": 70
        },
        "outputId": "930952df-1695-4e71-ff35-eb89df2eda74"
      },
      "source": [
        "%%sql\n",
        "update population\n",
        "set Electors=(select GrandElectors from electors where electors.State=population.State)"
      ],
      "execution_count": null,
      "outputs": [
        {
          "output_type": "stream",
          "text": [
            " * sqlite://\n",
            "56 rows affected.\n"
          ],
          "name": "stdout"
        },
        {
          "output_type": "execute_result",
          "data": {
            "text/plain": [
              "[]"
            ]
          },
          "metadata": {
            "tags": []
          },
          "execution_count": 9
        }
      ]
    },
    {
      "cell_type": "markdown",
      "metadata": {
        "id": "MFKCbgthgR1D",
        "colab_type": "text"
      },
      "source": [
        "An annomaly, these dont have a ratio because they dont appear in GrandElectors_by_state.csv indicating they dont have \n",
        "electors"
      ]
    },
    {
      "cell_type": "code",
      "metadata": {
        "id": "VcxWcmbqdX90",
        "colab_type": "code",
        "colab": {
          "base_uri": "https://localhost:8080/",
          "height": 160
        },
        "outputId": "49b3f514-c736-4682-a3ca-265a7786ae43"
      },
      "source": [
        "%%sql\n",
        "select State from population\n",
        "where not exists (select State from electors where population.State=electors.State)"
      ],
      "execution_count": null,
      "outputs": [
        {
          "output_type": "stream",
          "text": [
            " * sqlite://\n",
            "Done.\n"
          ],
          "name": "stdout"
        },
        {
          "output_type": "execute_result",
          "data": {
            "text/html": [
              "<table>\n",
              "    <tr>\n",
              "        <th>State</th>\n",
              "    </tr>\n",
              "    <tr>\n",
              "        <td>american samoa</td>\n",
              "    </tr>\n",
              "    <tr>\n",
              "        <td>guam</td>\n",
              "    </tr>\n",
              "    <tr>\n",
              "        <td>northern mariana islands</td>\n",
              "    </tr>\n",
              "    <tr>\n",
              "        <td>puerto rico</td>\n",
              "    </tr>\n",
              "    <tr>\n",
              "        <td>u.s. virgin islands</td>\n",
              "    </tr>\n",
              "</table>"
            ],
            "text/plain": [
              "[('american samoa',),\n",
              " ('guam',),\n",
              " ('northern mariana islands',),\n",
              " ('puerto rico',),\n",
              " ('u.s. virgin islands',)]"
            ]
          },
          "metadata": {
            "tags": []
          },
          "execution_count": 10
        }
      ]
    },
    {
      "cell_type": "markdown",
      "metadata": {
        "id": "H0-9qknhhJKM",
        "colab_type": "text"
      },
      "source": [
        "### 4: order the states by decreasing ratio of Grand Electors per capita. That will make our priority list."
      ]
    },
    {
      "cell_type": "markdown",
      "metadata": {
        "id": "hryJRlfX2n25",
        "colab_type": "text"
      },
      "source": [
        "That is ratio becomes the priority when ordering lists"
      ]
    },
    {
      "cell_type": "code",
      "metadata": {
        "id": "vhb1ydkPhI35",
        "colab_type": "code",
        "colab": {
          "base_uri": "https://localhost:8080/",
          "height": 1000
        },
        "outputId": "d264fbc6-554e-45c7-926f-26bda724110c"
      },
      "source": [
        "%sql select * from population order by ratio desc"
      ],
      "execution_count": null,
      "outputs": [
        {
          "output_type": "stream",
          "text": [
            " * sqlite://\n",
            "Done.\n"
          ],
          "name": "stdout"
        },
        {
          "output_type": "execute_result",
          "data": {
            "text/html": [
              "<table>\n",
              "    <tr>\n",
              "        <th>State</th>\n",
              "        <th>Population</th>\n",
              "        <th>ratio</th>\n",
              "        <th>Electors</th>\n",
              "    </tr>\n",
              "    <tr>\n",
              "        <td>texas</td>\n",
              "        <td>27469114</td>\n",
              "        <td>722871</td>\n",
              "        <td>38</td>\n",
              "    </tr>\n",
              "    <tr>\n",
              "        <td>california</td>\n",
              "        <td>39144818</td>\n",
              "        <td>711723</td>\n",
              "        <td>55</td>\n",
              "    </tr>\n",
              "    <tr>\n",
              "        <td>florida</td>\n",
              "        <td>20271272</td>\n",
              "        <td>699009</td>\n",
              "        <td>29</td>\n",
              "    </tr>\n",
              "    <tr>\n",
              "        <td>new york</td>\n",
              "        <td>19795791</td>\n",
              "        <td>682613</td>\n",
              "        <td>29</td>\n",
              "    </tr>\n",
              "    <tr>\n",
              "        <td>north carolina</td>\n",
              "        <td>10042802</td>\n",
              "        <td>669520</td>\n",
              "        <td>15</td>\n",
              "    </tr>\n",
              "    <tr>\n",
              "        <td>ohio</td>\n",
              "        <td>11613423</td>\n",
              "        <td>645190</td>\n",
              "        <td>18</td>\n",
              "    </tr>\n",
              "    <tr>\n",
              "        <td>virginia</td>\n",
              "        <td>8382993</td>\n",
              "        <td>644845</td>\n",
              "        <td>13</td>\n",
              "    </tr>\n",
              "    <tr>\n",
              "        <td>illinois</td>\n",
              "        <td>12859995</td>\n",
              "        <td>642999</td>\n",
              "        <td>20</td>\n",
              "    </tr>\n",
              "    <tr>\n",
              "        <td>pennsylvania</td>\n",
              "        <td>12802503</td>\n",
              "        <td>640125</td>\n",
              "        <td>20</td>\n",
              "    </tr>\n",
              "    <tr>\n",
              "        <td>new jersey</td>\n",
              "        <td>8958013</td>\n",
              "        <td>639858</td>\n",
              "        <td>14</td>\n",
              "    </tr>\n",
              "    <tr>\n",
              "        <td>georgia</td>\n",
              "        <td>10214860</td>\n",
              "        <td>638428</td>\n",
              "        <td>16</td>\n",
              "    </tr>\n",
              "    <tr>\n",
              "        <td>arizona</td>\n",
              "        <td>6828065</td>\n",
              "        <td>620733</td>\n",
              "        <td>11</td>\n",
              "    </tr>\n",
              "    <tr>\n",
              "        <td>michigan</td>\n",
              "        <td>9922576</td>\n",
              "        <td>620161</td>\n",
              "        <td>16</td>\n",
              "    </tr>\n",
              "    <tr>\n",
              "        <td>massachusetts</td>\n",
              "        <td>6794422</td>\n",
              "        <td>617674</td>\n",
              "        <td>11</td>\n",
              "    </tr>\n",
              "    <tr>\n",
              "        <td>missouri</td>\n",
              "        <td>6083672</td>\n",
              "        <td>608367</td>\n",
              "        <td>10</td>\n",
              "    </tr>\n",
              "    <tr>\n",
              "        <td>colorado</td>\n",
              "        <td>5456574</td>\n",
              "        <td>606286</td>\n",
              "        <td>9</td>\n",
              "    </tr>\n",
              "    <tr>\n",
              "        <td>indiana</td>\n",
              "        <td>6619680</td>\n",
              "        <td>601789</td>\n",
              "        <td>11</td>\n",
              "    </tr>\n",
              "    <tr>\n",
              "        <td>maryland</td>\n",
              "        <td>6006401</td>\n",
              "        <td>600640</td>\n",
              "        <td>10</td>\n",
              "    </tr>\n",
              "    <tr>\n",
              "        <td>tennessee</td>\n",
              "        <td>6600299</td>\n",
              "        <td>600027</td>\n",
              "        <td>11</td>\n",
              "    </tr>\n",
              "    <tr>\n",
              "        <td>washington</td>\n",
              "        <td>7170351</td>\n",
              "        <td>597529</td>\n",
              "        <td>12</td>\n",
              "    </tr>\n",
              "    <tr>\n",
              "        <td>louisiana</td>\n",
              "        <td>4670724</td>\n",
              "        <td>583840</td>\n",
              "        <td>8</td>\n",
              "    </tr>\n",
              "    <tr>\n",
              "        <td>wisconsin</td>\n",
              "        <td>5771337</td>\n",
              "        <td>577133</td>\n",
              "        <td>10</td>\n",
              "    </tr>\n",
              "    <tr>\n",
              "        <td>oregon</td>\n",
              "        <td>4028977</td>\n",
              "        <td>575568</td>\n",
              "        <td>7</td>\n",
              "    </tr>\n",
              "    <tr>\n",
              "        <td>oklahoma</td>\n",
              "        <td>3911338</td>\n",
              "        <td>558762</td>\n",
              "        <td>7</td>\n",
              "    </tr>\n",
              "    <tr>\n",
              "        <td>kentucky</td>\n",
              "        <td>4425092</td>\n",
              "        <td>553136</td>\n",
              "        <td>8</td>\n",
              "    </tr>\n",
              "    <tr>\n",
              "        <td>minnesota</td>\n",
              "        <td>5489594</td>\n",
              "        <td>548959</td>\n",
              "        <td>10</td>\n",
              "    </tr>\n",
              "    <tr>\n",
              "        <td>south carolina</td>\n",
              "        <td>4896146</td>\n",
              "        <td>544016</td>\n",
              "        <td>9</td>\n",
              "    </tr>\n",
              "    <tr>\n",
              "        <td>alabama</td>\n",
              "        <td>4858979</td>\n",
              "        <td>539886</td>\n",
              "        <td>9</td>\n",
              "    </tr>\n",
              "    <tr>\n",
              "        <td>iowa</td>\n",
              "        <td>3123899</td>\n",
              "        <td>520649</td>\n",
              "        <td>6</td>\n",
              "    </tr>\n",
              "    <tr>\n",
              "        <td>connecticut</td>\n",
              "        <td>3590886</td>\n",
              "        <td>512983</td>\n",
              "        <td>7</td>\n",
              "    </tr>\n",
              "    <tr>\n",
              "        <td>utah</td>\n",
              "        <td>2995919</td>\n",
              "        <td>499319</td>\n",
              "        <td>6</td>\n",
              "    </tr>\n",
              "    <tr>\n",
              "        <td>mississippi</td>\n",
              "        <td>2992333</td>\n",
              "        <td>498722</td>\n",
              "        <td>6</td>\n",
              "    </tr>\n",
              "    <tr>\n",
              "        <td>arkansas</td>\n",
              "        <td>2978204</td>\n",
              "        <td>496367</td>\n",
              "        <td>6</td>\n",
              "    </tr>\n",
              "    <tr>\n",
              "        <td>kansas</td>\n",
              "        <td>2911641</td>\n",
              "        <td>485273</td>\n",
              "        <td>6</td>\n",
              "    </tr>\n",
              "    <tr>\n",
              "        <td>nevada</td>\n",
              "        <td>2890845</td>\n",
              "        <td>481807</td>\n",
              "        <td>6</td>\n",
              "    </tr>\n",
              "    <tr>\n",
              "        <td>new mexico</td>\n",
              "        <td>2085109</td>\n",
              "        <td>417021</td>\n",
              "        <td>5</td>\n",
              "    </tr>\n",
              "    <tr>\n",
              "        <td>idaho</td>\n",
              "        <td>1654930</td>\n",
              "        <td>413732</td>\n",
              "        <td>4</td>\n",
              "    </tr>\n",
              "    <tr>\n",
              "        <td>nebraska</td>\n",
              "        <td>1896190</td>\n",
              "        <td>379238</td>\n",
              "        <td>5</td>\n",
              "    </tr>\n",
              "    <tr>\n",
              "        <td>west virginia</td>\n",
              "        <td>1844128</td>\n",
              "        <td>368825</td>\n",
              "        <td>5</td>\n",
              "    </tr>\n",
              "    <tr>\n",
              "        <td>hawaii</td>\n",
              "        <td>1431603</td>\n",
              "        <td>357900</td>\n",
              "        <td>4</td>\n",
              "    </tr>\n",
              "    <tr>\n",
              "        <td>montana</td>\n",
              "        <td>1032949</td>\n",
              "        <td>344316</td>\n",
              "        <td>3</td>\n",
              "    </tr>\n",
              "    <tr>\n",
              "        <td>new hampshire</td>\n",
              "        <td>1330608</td>\n",
              "        <td>332652</td>\n",
              "        <td>4</td>\n",
              "    </tr>\n",
              "    <tr>\n",
              "        <td>maine</td>\n",
              "        <td>1329328</td>\n",
              "        <td>332332</td>\n",
              "        <td>4</td>\n",
              "    </tr>\n",
              "    <tr>\n",
              "        <td>delaware</td>\n",
              "        <td>945934</td>\n",
              "        <td>315311</td>\n",
              "        <td>3</td>\n",
              "    </tr>\n",
              "    <tr>\n",
              "        <td>south dakota</td>\n",
              "        <td>858469</td>\n",
              "        <td>286156</td>\n",
              "        <td>3</td>\n",
              "    </tr>\n",
              "    <tr>\n",
              "        <td>rhode island</td>\n",
              "        <td>1056298</td>\n",
              "        <td>264074</td>\n",
              "        <td>4</td>\n",
              "    </tr>\n",
              "    <tr>\n",
              "        <td>north dakota</td>\n",
              "        <td>756927</td>\n",
              "        <td>252309</td>\n",
              "        <td>3</td>\n",
              "    </tr>\n",
              "    <tr>\n",
              "        <td>alaska</td>\n",
              "        <td>738432</td>\n",
              "        <td>246144</td>\n",
              "        <td>3</td>\n",
              "    </tr>\n",
              "    <tr>\n",
              "        <td>dc</td>\n",
              "        <td>672228</td>\n",
              "        <td>224076</td>\n",
              "        <td>3</td>\n",
              "    </tr>\n",
              "    <tr>\n",
              "        <td>vermont</td>\n",
              "        <td>626042</td>\n",
              "        <td>208680</td>\n",
              "        <td>3</td>\n",
              "    </tr>\n",
              "    <tr>\n",
              "        <td>wyoming</td>\n",
              "        <td>586107</td>\n",
              "        <td>195369</td>\n",
              "        <td>3</td>\n",
              "    </tr>\n",
              "    <tr>\n",
              "        <td>puerto rico</td>\n",
              "        <td>3474182</td>\n",
              "        <td>None</td>\n",
              "        <td>None</td>\n",
              "    </tr>\n",
              "    <tr>\n",
              "        <td>guam</td>\n",
              "        <td>161785</td>\n",
              "        <td>None</td>\n",
              "        <td>None</td>\n",
              "    </tr>\n",
              "    <tr>\n",
              "        <td>u.s. virgin islands</td>\n",
              "        <td>103574</td>\n",
              "        <td>None</td>\n",
              "        <td>None</td>\n",
              "    </tr>\n",
              "    <tr>\n",
              "        <td>american samoa</td>\n",
              "        <td>54343</td>\n",
              "        <td>None</td>\n",
              "        <td>None</td>\n",
              "    </tr>\n",
              "    <tr>\n",
              "        <td>northern mariana islands</td>\n",
              "        <td>52344</td>\n",
              "        <td>None</td>\n",
              "        <td>None</td>\n",
              "    </tr>\n",
              "</table>"
            ],
            "text/plain": [
              "[('texas', 27469114, 722871, 38),\n",
              " ('california', 39144818, 711723, 55),\n",
              " ('florida', 20271272, 699009, 29),\n",
              " ('new york', 19795791, 682613, 29),\n",
              " ('north carolina', 10042802, 669520, 15),\n",
              " ('ohio', 11613423, 645190, 18),\n",
              " ('virginia', 8382993, 644845, 13),\n",
              " ('illinois', 12859995, 642999, 20),\n",
              " ('pennsylvania', 12802503, 640125, 20),\n",
              " ('new jersey', 8958013, 639858, 14),\n",
              " ('georgia', 10214860, 638428, 16),\n",
              " ('arizona', 6828065, 620733, 11),\n",
              " ('michigan', 9922576, 620161, 16),\n",
              " ('massachusetts', 6794422, 617674, 11),\n",
              " ('missouri', 6083672, 608367, 10),\n",
              " ('colorado', 5456574, 606286, 9),\n",
              " ('indiana', 6619680, 601789, 11),\n",
              " ('maryland', 6006401, 600640, 10),\n",
              " ('tennessee', 6600299, 600027, 11),\n",
              " ('washington', 7170351, 597529, 12),\n",
              " ('louisiana', 4670724, 583840, 8),\n",
              " ('wisconsin', 5771337, 577133, 10),\n",
              " ('oregon', 4028977, 575568, 7),\n",
              " ('oklahoma', 3911338, 558762, 7),\n",
              " ('kentucky', 4425092, 553136, 8),\n",
              " ('minnesota', 5489594, 548959, 10),\n",
              " ('south carolina', 4896146, 544016, 9),\n",
              " ('alabama', 4858979, 539886, 9),\n",
              " ('iowa', 3123899, 520649, 6),\n",
              " ('connecticut', 3590886, 512983, 7),\n",
              " ('utah', 2995919, 499319, 6),\n",
              " ('mississippi', 2992333, 498722, 6),\n",
              " ('arkansas', 2978204, 496367, 6),\n",
              " ('kansas', 2911641, 485273, 6),\n",
              " ('nevada', 2890845, 481807, 6),\n",
              " ('new mexico', 2085109, 417021, 5),\n",
              " ('idaho', 1654930, 413732, 4),\n",
              " ('nebraska', 1896190, 379238, 5),\n",
              " ('west virginia', 1844128, 368825, 5),\n",
              " ('hawaii', 1431603, 357900, 4),\n",
              " ('montana', 1032949, 344316, 3),\n",
              " ('new hampshire', 1330608, 332652, 4),\n",
              " ('maine', 1329328, 332332, 4),\n",
              " ('delaware', 945934, 315311, 3),\n",
              " ('south dakota', 858469, 286156, 3),\n",
              " ('rhode island', 1056298, 264074, 4),\n",
              " ('north dakota', 756927, 252309, 3),\n",
              " ('alaska', 738432, 246144, 3),\n",
              " ('dc', 672228, 224076, 3),\n",
              " ('vermont', 626042, 208680, 3),\n",
              " ('wyoming', 586107, 195369, 3),\n",
              " ('puerto rico', 3474182, None, None),\n",
              " ('guam', 161785, None, None),\n",
              " ('u.s. virgin islands', 103574, None, None),\n",
              " ('american samoa', 54343, None, None),\n",
              " ('northern mariana islands', 52344, None, None)]"
            ]
          },
          "metadata": {
            "tags": []
          },
          "execution_count": 11
        }
      ]
    },
    {
      "cell_type": "markdown",
      "metadata": {
        "id": "2JidTa0XmCjW",
        "colab_type": "text"
      },
      "source": [
        "### 5: compute the running total of Grand Electors in that sorted list"
      ]
    },
    {
      "cell_type": "code",
      "metadata": {
        "id": "6y0AC7KRtDSM",
        "colab_type": "code",
        "colab": {
          "base_uri": "https://localhost:8080/",
          "height": 1000
        },
        "outputId": "8b1f1668-5b7f-402a-c42b-9985c99c798a"
      },
      "source": [
        "%%sql\n",
        "select *,(select sum(Electors) from population t1 where t1.ratio>=t2.ratio order by ratio desc) as running_total from population t2\n",
        "order by ratio desc"
      ],
      "execution_count": null,
      "outputs": [
        {
          "output_type": "stream",
          "text": [
            " * sqlite://\n",
            "Done.\n"
          ],
          "name": "stdout"
        },
        {
          "output_type": "execute_result",
          "data": {
            "text/html": [
              "<table>\n",
              "    <tr>\n",
              "        <th>State</th>\n",
              "        <th>Population</th>\n",
              "        <th>ratio</th>\n",
              "        <th>Electors</th>\n",
              "        <th>running_total</th>\n",
              "    </tr>\n",
              "    <tr>\n",
              "        <td>texas</td>\n",
              "        <td>27469114</td>\n",
              "        <td>722871</td>\n",
              "        <td>38</td>\n",
              "        <td>38</td>\n",
              "    </tr>\n",
              "    <tr>\n",
              "        <td>california</td>\n",
              "        <td>39144818</td>\n",
              "        <td>711723</td>\n",
              "        <td>55</td>\n",
              "        <td>93</td>\n",
              "    </tr>\n",
              "    <tr>\n",
              "        <td>florida</td>\n",
              "        <td>20271272</td>\n",
              "        <td>699009</td>\n",
              "        <td>29</td>\n",
              "        <td>122</td>\n",
              "    </tr>\n",
              "    <tr>\n",
              "        <td>new york</td>\n",
              "        <td>19795791</td>\n",
              "        <td>682613</td>\n",
              "        <td>29</td>\n",
              "        <td>151</td>\n",
              "    </tr>\n",
              "    <tr>\n",
              "        <td>north carolina</td>\n",
              "        <td>10042802</td>\n",
              "        <td>669520</td>\n",
              "        <td>15</td>\n",
              "        <td>166</td>\n",
              "    </tr>\n",
              "    <tr>\n",
              "        <td>ohio</td>\n",
              "        <td>11613423</td>\n",
              "        <td>645190</td>\n",
              "        <td>18</td>\n",
              "        <td>184</td>\n",
              "    </tr>\n",
              "    <tr>\n",
              "        <td>virginia</td>\n",
              "        <td>8382993</td>\n",
              "        <td>644845</td>\n",
              "        <td>13</td>\n",
              "        <td>197</td>\n",
              "    </tr>\n",
              "    <tr>\n",
              "        <td>illinois</td>\n",
              "        <td>12859995</td>\n",
              "        <td>642999</td>\n",
              "        <td>20</td>\n",
              "        <td>217</td>\n",
              "    </tr>\n",
              "    <tr>\n",
              "        <td>pennsylvania</td>\n",
              "        <td>12802503</td>\n",
              "        <td>640125</td>\n",
              "        <td>20</td>\n",
              "        <td>237</td>\n",
              "    </tr>\n",
              "    <tr>\n",
              "        <td>new jersey</td>\n",
              "        <td>8958013</td>\n",
              "        <td>639858</td>\n",
              "        <td>14</td>\n",
              "        <td>251</td>\n",
              "    </tr>\n",
              "    <tr>\n",
              "        <td>georgia</td>\n",
              "        <td>10214860</td>\n",
              "        <td>638428</td>\n",
              "        <td>16</td>\n",
              "        <td>267</td>\n",
              "    </tr>\n",
              "    <tr>\n",
              "        <td>arizona</td>\n",
              "        <td>6828065</td>\n",
              "        <td>620733</td>\n",
              "        <td>11</td>\n",
              "        <td>278</td>\n",
              "    </tr>\n",
              "    <tr>\n",
              "        <td>michigan</td>\n",
              "        <td>9922576</td>\n",
              "        <td>620161</td>\n",
              "        <td>16</td>\n",
              "        <td>294</td>\n",
              "    </tr>\n",
              "    <tr>\n",
              "        <td>massachusetts</td>\n",
              "        <td>6794422</td>\n",
              "        <td>617674</td>\n",
              "        <td>11</td>\n",
              "        <td>305</td>\n",
              "    </tr>\n",
              "    <tr>\n",
              "        <td>missouri</td>\n",
              "        <td>6083672</td>\n",
              "        <td>608367</td>\n",
              "        <td>10</td>\n",
              "        <td>315</td>\n",
              "    </tr>\n",
              "    <tr>\n",
              "        <td>colorado</td>\n",
              "        <td>5456574</td>\n",
              "        <td>606286</td>\n",
              "        <td>9</td>\n",
              "        <td>324</td>\n",
              "    </tr>\n",
              "    <tr>\n",
              "        <td>indiana</td>\n",
              "        <td>6619680</td>\n",
              "        <td>601789</td>\n",
              "        <td>11</td>\n",
              "        <td>335</td>\n",
              "    </tr>\n",
              "    <tr>\n",
              "        <td>maryland</td>\n",
              "        <td>6006401</td>\n",
              "        <td>600640</td>\n",
              "        <td>10</td>\n",
              "        <td>345</td>\n",
              "    </tr>\n",
              "    <tr>\n",
              "        <td>tennessee</td>\n",
              "        <td>6600299</td>\n",
              "        <td>600027</td>\n",
              "        <td>11</td>\n",
              "        <td>356</td>\n",
              "    </tr>\n",
              "    <tr>\n",
              "        <td>washington</td>\n",
              "        <td>7170351</td>\n",
              "        <td>597529</td>\n",
              "        <td>12</td>\n",
              "        <td>368</td>\n",
              "    </tr>\n",
              "    <tr>\n",
              "        <td>louisiana</td>\n",
              "        <td>4670724</td>\n",
              "        <td>583840</td>\n",
              "        <td>8</td>\n",
              "        <td>376</td>\n",
              "    </tr>\n",
              "    <tr>\n",
              "        <td>wisconsin</td>\n",
              "        <td>5771337</td>\n",
              "        <td>577133</td>\n",
              "        <td>10</td>\n",
              "        <td>386</td>\n",
              "    </tr>\n",
              "    <tr>\n",
              "        <td>oregon</td>\n",
              "        <td>4028977</td>\n",
              "        <td>575568</td>\n",
              "        <td>7</td>\n",
              "        <td>393</td>\n",
              "    </tr>\n",
              "    <tr>\n",
              "        <td>oklahoma</td>\n",
              "        <td>3911338</td>\n",
              "        <td>558762</td>\n",
              "        <td>7</td>\n",
              "        <td>400</td>\n",
              "    </tr>\n",
              "    <tr>\n",
              "        <td>kentucky</td>\n",
              "        <td>4425092</td>\n",
              "        <td>553136</td>\n",
              "        <td>8</td>\n",
              "        <td>408</td>\n",
              "    </tr>\n",
              "    <tr>\n",
              "        <td>minnesota</td>\n",
              "        <td>5489594</td>\n",
              "        <td>548959</td>\n",
              "        <td>10</td>\n",
              "        <td>418</td>\n",
              "    </tr>\n",
              "    <tr>\n",
              "        <td>south carolina</td>\n",
              "        <td>4896146</td>\n",
              "        <td>544016</td>\n",
              "        <td>9</td>\n",
              "        <td>427</td>\n",
              "    </tr>\n",
              "    <tr>\n",
              "        <td>alabama</td>\n",
              "        <td>4858979</td>\n",
              "        <td>539886</td>\n",
              "        <td>9</td>\n",
              "        <td>436</td>\n",
              "    </tr>\n",
              "    <tr>\n",
              "        <td>iowa</td>\n",
              "        <td>3123899</td>\n",
              "        <td>520649</td>\n",
              "        <td>6</td>\n",
              "        <td>442</td>\n",
              "    </tr>\n",
              "    <tr>\n",
              "        <td>connecticut</td>\n",
              "        <td>3590886</td>\n",
              "        <td>512983</td>\n",
              "        <td>7</td>\n",
              "        <td>449</td>\n",
              "    </tr>\n",
              "    <tr>\n",
              "        <td>utah</td>\n",
              "        <td>2995919</td>\n",
              "        <td>499319</td>\n",
              "        <td>6</td>\n",
              "        <td>455</td>\n",
              "    </tr>\n",
              "    <tr>\n",
              "        <td>mississippi</td>\n",
              "        <td>2992333</td>\n",
              "        <td>498722</td>\n",
              "        <td>6</td>\n",
              "        <td>461</td>\n",
              "    </tr>\n",
              "    <tr>\n",
              "        <td>arkansas</td>\n",
              "        <td>2978204</td>\n",
              "        <td>496367</td>\n",
              "        <td>6</td>\n",
              "        <td>467</td>\n",
              "    </tr>\n",
              "    <tr>\n",
              "        <td>kansas</td>\n",
              "        <td>2911641</td>\n",
              "        <td>485273</td>\n",
              "        <td>6</td>\n",
              "        <td>473</td>\n",
              "    </tr>\n",
              "    <tr>\n",
              "        <td>nevada</td>\n",
              "        <td>2890845</td>\n",
              "        <td>481807</td>\n",
              "        <td>6</td>\n",
              "        <td>479</td>\n",
              "    </tr>\n",
              "    <tr>\n",
              "        <td>new mexico</td>\n",
              "        <td>2085109</td>\n",
              "        <td>417021</td>\n",
              "        <td>5</td>\n",
              "        <td>484</td>\n",
              "    </tr>\n",
              "    <tr>\n",
              "        <td>idaho</td>\n",
              "        <td>1654930</td>\n",
              "        <td>413732</td>\n",
              "        <td>4</td>\n",
              "        <td>488</td>\n",
              "    </tr>\n",
              "    <tr>\n",
              "        <td>nebraska</td>\n",
              "        <td>1896190</td>\n",
              "        <td>379238</td>\n",
              "        <td>5</td>\n",
              "        <td>493</td>\n",
              "    </tr>\n",
              "    <tr>\n",
              "        <td>west virginia</td>\n",
              "        <td>1844128</td>\n",
              "        <td>368825</td>\n",
              "        <td>5</td>\n",
              "        <td>498</td>\n",
              "    </tr>\n",
              "    <tr>\n",
              "        <td>hawaii</td>\n",
              "        <td>1431603</td>\n",
              "        <td>357900</td>\n",
              "        <td>4</td>\n",
              "        <td>502</td>\n",
              "    </tr>\n",
              "    <tr>\n",
              "        <td>montana</td>\n",
              "        <td>1032949</td>\n",
              "        <td>344316</td>\n",
              "        <td>3</td>\n",
              "        <td>505</td>\n",
              "    </tr>\n",
              "    <tr>\n",
              "        <td>new hampshire</td>\n",
              "        <td>1330608</td>\n",
              "        <td>332652</td>\n",
              "        <td>4</td>\n",
              "        <td>509</td>\n",
              "    </tr>\n",
              "    <tr>\n",
              "        <td>maine</td>\n",
              "        <td>1329328</td>\n",
              "        <td>332332</td>\n",
              "        <td>4</td>\n",
              "        <td>513</td>\n",
              "    </tr>\n",
              "    <tr>\n",
              "        <td>delaware</td>\n",
              "        <td>945934</td>\n",
              "        <td>315311</td>\n",
              "        <td>3</td>\n",
              "        <td>516</td>\n",
              "    </tr>\n",
              "    <tr>\n",
              "        <td>south dakota</td>\n",
              "        <td>858469</td>\n",
              "        <td>286156</td>\n",
              "        <td>3</td>\n",
              "        <td>519</td>\n",
              "    </tr>\n",
              "    <tr>\n",
              "        <td>rhode island</td>\n",
              "        <td>1056298</td>\n",
              "        <td>264074</td>\n",
              "        <td>4</td>\n",
              "        <td>523</td>\n",
              "    </tr>\n",
              "    <tr>\n",
              "        <td>north dakota</td>\n",
              "        <td>756927</td>\n",
              "        <td>252309</td>\n",
              "        <td>3</td>\n",
              "        <td>526</td>\n",
              "    </tr>\n",
              "    <tr>\n",
              "        <td>alaska</td>\n",
              "        <td>738432</td>\n",
              "        <td>246144</td>\n",
              "        <td>3</td>\n",
              "        <td>529</td>\n",
              "    </tr>\n",
              "    <tr>\n",
              "        <td>dc</td>\n",
              "        <td>672228</td>\n",
              "        <td>224076</td>\n",
              "        <td>3</td>\n",
              "        <td>532</td>\n",
              "    </tr>\n",
              "    <tr>\n",
              "        <td>vermont</td>\n",
              "        <td>626042</td>\n",
              "        <td>208680</td>\n",
              "        <td>3</td>\n",
              "        <td>535</td>\n",
              "    </tr>\n",
              "    <tr>\n",
              "        <td>wyoming</td>\n",
              "        <td>586107</td>\n",
              "        <td>195369</td>\n",
              "        <td>3</td>\n",
              "        <td>538</td>\n",
              "    </tr>\n",
              "    <tr>\n",
              "        <td>puerto rico</td>\n",
              "        <td>3474182</td>\n",
              "        <td>None</td>\n",
              "        <td>None</td>\n",
              "        <td>None</td>\n",
              "    </tr>\n",
              "    <tr>\n",
              "        <td>guam</td>\n",
              "        <td>161785</td>\n",
              "        <td>None</td>\n",
              "        <td>None</td>\n",
              "        <td>None</td>\n",
              "    </tr>\n",
              "    <tr>\n",
              "        <td>u.s. virgin islands</td>\n",
              "        <td>103574</td>\n",
              "        <td>None</td>\n",
              "        <td>None</td>\n",
              "        <td>None</td>\n",
              "    </tr>\n",
              "    <tr>\n",
              "        <td>american samoa</td>\n",
              "        <td>54343</td>\n",
              "        <td>None</td>\n",
              "        <td>None</td>\n",
              "        <td>None</td>\n",
              "    </tr>\n",
              "    <tr>\n",
              "        <td>northern mariana islands</td>\n",
              "        <td>52344</td>\n",
              "        <td>None</td>\n",
              "        <td>None</td>\n",
              "        <td>None</td>\n",
              "    </tr>\n",
              "</table>"
            ],
            "text/plain": [
              "[('texas', 27469114, 722871, 38, 38),\n",
              " ('california', 39144818, 711723, 55, 93),\n",
              " ('florida', 20271272, 699009, 29, 122),\n",
              " ('new york', 19795791, 682613, 29, 151),\n",
              " ('north carolina', 10042802, 669520, 15, 166),\n",
              " ('ohio', 11613423, 645190, 18, 184),\n",
              " ('virginia', 8382993, 644845, 13, 197),\n",
              " ('illinois', 12859995, 642999, 20, 217),\n",
              " ('pennsylvania', 12802503, 640125, 20, 237),\n",
              " ('new jersey', 8958013, 639858, 14, 251),\n",
              " ('georgia', 10214860, 638428, 16, 267),\n",
              " ('arizona', 6828065, 620733, 11, 278),\n",
              " ('michigan', 9922576, 620161, 16, 294),\n",
              " ('massachusetts', 6794422, 617674, 11, 305),\n",
              " ('missouri', 6083672, 608367, 10, 315),\n",
              " ('colorado', 5456574, 606286, 9, 324),\n",
              " ('indiana', 6619680, 601789, 11, 335),\n",
              " ('maryland', 6006401, 600640, 10, 345),\n",
              " ('tennessee', 6600299, 600027, 11, 356),\n",
              " ('washington', 7170351, 597529, 12, 368),\n",
              " ('louisiana', 4670724, 583840, 8, 376),\n",
              " ('wisconsin', 5771337, 577133, 10, 386),\n",
              " ('oregon', 4028977, 575568, 7, 393),\n",
              " ('oklahoma', 3911338, 558762, 7, 400),\n",
              " ('kentucky', 4425092, 553136, 8, 408),\n",
              " ('minnesota', 5489594, 548959, 10, 418),\n",
              " ('south carolina', 4896146, 544016, 9, 427),\n",
              " ('alabama', 4858979, 539886, 9, 436),\n",
              " ('iowa', 3123899, 520649, 6, 442),\n",
              " ('connecticut', 3590886, 512983, 7, 449),\n",
              " ('utah', 2995919, 499319, 6, 455),\n",
              " ('mississippi', 2992333, 498722, 6, 461),\n",
              " ('arkansas', 2978204, 496367, 6, 467),\n",
              " ('kansas', 2911641, 485273, 6, 473),\n",
              " ('nevada', 2890845, 481807, 6, 479),\n",
              " ('new mexico', 2085109, 417021, 5, 484),\n",
              " ('idaho', 1654930, 413732, 4, 488),\n",
              " ('nebraska', 1896190, 379238, 5, 493),\n",
              " ('west virginia', 1844128, 368825, 5, 498),\n",
              " ('hawaii', 1431603, 357900, 4, 502),\n",
              " ('montana', 1032949, 344316, 3, 505),\n",
              " ('new hampshire', 1330608, 332652, 4, 509),\n",
              " ('maine', 1329328, 332332, 4, 513),\n",
              " ('delaware', 945934, 315311, 3, 516),\n",
              " ('south dakota', 858469, 286156, 3, 519),\n",
              " ('rhode island', 1056298, 264074, 4, 523),\n",
              " ('north dakota', 756927, 252309, 3, 526),\n",
              " ('alaska', 738432, 246144, 3, 529),\n",
              " ('dc', 672228, 224076, 3, 532),\n",
              " ('vermont', 626042, 208680, 3, 535),\n",
              " ('wyoming', 586107, 195369, 3, 538),\n",
              " ('puerto rico', 3474182, None, None, None),\n",
              " ('guam', 161785, None, None, None),\n",
              " ('u.s. virgin islands', 103574, None, None, None),\n",
              " ('american samoa', 54343, None, None, None),\n",
              " ('northern mariana islands', 52344, None, None, None)]"
            ]
          },
          "metadata": {
            "tags": []
          },
          "execution_count": 12
        }
      ]
    },
    {
      "cell_type": "markdown",
      "metadata": {
        "id": "z4aGk4PmmmVP",
        "colab_type": "text"
      },
      "source": [
        "### 6: compute the half of the total of Grand Electors overall (in the whole country)"
      ]
    },
    {
      "cell_type": "code",
      "metadata": {
        "id": "hEOHqjs2wLrt",
        "colab_type": "code",
        "colab": {
          "base_uri": "https://localhost:8080/",
          "height": 88
        },
        "outputId": "e1074c6b-cb7a-4a08-e98e-5a7637bea671"
      },
      "source": [
        "%sql select sum(Electors)/2 as half_Grand_Electors from population"
      ],
      "execution_count": null,
      "outputs": [
        {
          "output_type": "stream",
          "text": [
            " * sqlite://\n",
            "Done.\n"
          ],
          "name": "stdout"
        },
        {
          "output_type": "execute_result",
          "data": {
            "text/html": [
              "<table>\n",
              "    <tr>\n",
              "        <th>half_Grand_Electors</th>\n",
              "    </tr>\n",
              "    <tr>\n",
              "        <td>269</td>\n",
              "    </tr>\n",
              "</table>"
            ],
            "text/plain": [
              "[(269,)]"
            ]
          },
          "metadata": {
            "tags": []
          },
          "execution_count": 13
        }
      ]
    },
    {
      "cell_type": "markdown",
      "metadata": {
        "id": "NRREb-v4mpij",
        "colab_type": "text"
      },
      "source": [
        "### 7: filter our sorted list of states in order to keep only the (top) ones enabling us to reach the computed threshold. (the other states can be ignored). That is our target list."
      ]
    },
    {
      "cell_type": "code",
      "metadata": {
        "id": "CGyVAr_Kp7xU",
        "colab_type": "code",
        "colab": {
          "base_uri": "https://localhost:8080/",
          "height": 266
        },
        "outputId": "34a4ed5a-dcca-4be7-e5e1-09ceb8a1d3e1"
      },
      "source": [
        "%%sql\n",
        "select State from population t2\n",
        "where (select sum(Electors) from population t1 where t1.ratio>=t2.ratio order by ratio desc)<=(select sum(Electors)/2 as half_Grand_Electors from population)\n",
        "order by ratio desc"
      ],
      "execution_count": null,
      "outputs": [
        {
          "output_type": "stream",
          "text": [
            " * sqlite://\n",
            "Done.\n"
          ],
          "name": "stdout"
        },
        {
          "output_type": "execute_result",
          "data": {
            "text/html": [
              "<table>\n",
              "    <tr>\n",
              "        <th>State</th>\n",
              "    </tr>\n",
              "    <tr>\n",
              "        <td>texas</td>\n",
              "    </tr>\n",
              "    <tr>\n",
              "        <td>california</td>\n",
              "    </tr>\n",
              "    <tr>\n",
              "        <td>florida</td>\n",
              "    </tr>\n",
              "    <tr>\n",
              "        <td>new york</td>\n",
              "    </tr>\n",
              "    <tr>\n",
              "        <td>north carolina</td>\n",
              "    </tr>\n",
              "    <tr>\n",
              "        <td>ohio</td>\n",
              "    </tr>\n",
              "    <tr>\n",
              "        <td>virginia</td>\n",
              "    </tr>\n",
              "    <tr>\n",
              "        <td>illinois</td>\n",
              "    </tr>\n",
              "    <tr>\n",
              "        <td>pennsylvania</td>\n",
              "    </tr>\n",
              "    <tr>\n",
              "        <td>new jersey</td>\n",
              "    </tr>\n",
              "    <tr>\n",
              "        <td>georgia</td>\n",
              "    </tr>\n",
              "</table>"
            ],
            "text/plain": [
              "[('texas',),\n",
              " ('california',),\n",
              " ('florida',),\n",
              " ('new york',),\n",
              " ('north carolina',),\n",
              " ('ohio',),\n",
              " ('virginia',),\n",
              " ('illinois',),\n",
              " ('pennsylvania',),\n",
              " ('new jersey',),\n",
              " ('georgia',)]"
            ]
          },
          "metadata": {
            "tags": []
          },
          "execution_count": 14
        }
      ]
    },
    {
      "cell_type": "markdown",
      "metadata": {
        "id": "wj_bXqBge4AW",
        "colab_type": "text"
      },
      "source": [
        "-Add the first state for which the running total is larger than the threshold."
      ]
    },
    {
      "cell_type": "code",
      "metadata": {
        "id": "iTkKKEZfrTqF",
        "colab_type": "code",
        "colab": {
          "base_uri": "https://localhost:8080/",
          "height": 88
        },
        "outputId": "88f013c1-3e57-450f-8c25-7febf23281bd"
      },
      "source": [
        "%%sql\n",
        "select State from population t2\n",
        "where (select sum(Electors) from population t1 where t1.ratio>=t2.ratio order by ratio desc)>=(select sum(Electors)/2 as half_Grand_Electors from population)\n",
        "order by ratio desc limit 1"
      ],
      "execution_count": null,
      "outputs": [
        {
          "output_type": "stream",
          "text": [
            " * sqlite://\n",
            "Done.\n"
          ],
          "name": "stdout"
        },
        {
          "output_type": "execute_result",
          "data": {
            "text/html": [
              "<table>\n",
              "    <tr>\n",
              "        <th>State</th>\n",
              "    </tr>\n",
              "    <tr>\n",
              "        <td>arizona</td>\n",
              "    </tr>\n",
              "</table>"
            ],
            "text/plain": [
              "[('arizona',)]"
            ]
          },
          "metadata": {
            "tags": []
          },
          "execution_count": 15
        }
      ]
    },
    {
      "cell_type": "markdown",
      "metadata": {
        "id": "ZOTwnqs6oNgB",
        "colab_type": "text"
      },
      "source": [
        "In conclusion the states that would be best to invest in are:\n",
        "texas,california,florida,new york,north carolina,ohio,\n",
        "virginia,illinois,pennsylvania,new jersey,georgia and arizona, based on their cummulative running totals."
      ]
    }
  ]
}