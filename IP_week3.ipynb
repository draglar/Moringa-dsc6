{
  "nbformat": 4,
  "nbformat_minor": 0,
  "metadata": {
    "colab": {
      "name": "IP_week3.ipynb",
      "provenance": [],
      "toc_visible": true,
      "authorship_tag": "ABX9TyPlA5yd9J3sL136czWoVi6J",
      "include_colab_link": true
    },
    "kernelspec": {
      "name": "python3",
      "display_name": "Python 3"
    }
  },
  "cells": [
    {
      "cell_type": "markdown",
      "metadata": {
        "id": "view-in-github",
        "colab_type": "text"
      },
      "source": [
        "<a href=\"https://colab.research.google.com/github/draglar/Moringa-dsc6/blob/master/IP_week3.ipynb\" target=\"_parent\"><img src=\"https://colab.research.google.com/assets/colab-badge.svg\" alt=\"Open In Colab\"/></a>"
      ]
    },
    {
      "cell_type": "markdown",
      "metadata": {
        "id": "xLTT05UC2bPe",
        "colab_type": "text"
      },
      "source": [
        "## Importing"
      ]
    },
    {
      "cell_type": "markdown",
      "metadata": {
        "id": "0iSeJ5B4x6gQ",
        "colab_type": "text"
      },
      "source": [
        "Improting necessary liblaries"
      ]
    },
    {
      "cell_type": "code",
      "metadata": {
        "id": "KP-WaVTmx5hn",
        "colab_type": "code",
        "colab": {}
      },
      "source": [
        "import pandas as pd\n",
        "from datetime import datetime"
      ],
      "execution_count": 1,
      "outputs": []
    },
    {
      "cell_type": "markdown",
      "metadata": {
        "id": "U7SXI6dWx27a",
        "colab_type": "text"
      },
      "source": [
        "Getting all the necessary files for todays work and creating the necessary dataframes"
      ]
    },
    {
      "cell_type": "code",
      "metadata": {
        "id": "xt2XyyQsCDKJ",
        "colab_type": "code",
        "colab": {}
      },
      "source": [
        "cells_geo_description='cells_geo_description.xlsx'\n",
        "cells_geo='cells_geo.csv'\n",
        "CDR_description='CDR_description.xlsx'\n",
        "CDR_TelecomDataset1='Telcom_dataset.csv'\n",
        "CDR_TelecomDataset2='Telcom_dataset2.csv'\n",
        "CDR_TelecomDataset3='Telcom_dataset3.csv'\n",
        "geo_descr=pd.read_excel(cells_geo_description)\n",
        "geo_cells=pd.read_csv(cells_geo, delimiter=';')\n",
        "tel_descr=pd.read_excel(CDR_description)\n",
        "tel_set_1=pd.read_csv(CDR_TelecomDataset1)\n",
        "tel_set_2=pd.read_csv(CDR_TelecomDataset2)\n",
        "tel_set_3=pd.read_csv(CDR_TelecomDataset3)"
      ],
      "execution_count": 2,
      "outputs": []
    },
    {
      "cell_type": "code",
      "metadata": {
        "id": "8tNBWK-JzJ4u",
        "colab_type": "code",
        "colab": {
          "base_uri": "https://localhost:8080/",
          "height": 363
        },
        "outputId": "9df9c95d-f512-4816-9956-ceba238573c4"
      },
      "source": [
        "geo_descr"
      ],
      "execution_count": 3,
      "outputs": [
        {
          "output_type": "execute_result",
          "data": {
            "text/html": [
              "<div>\n",
              "<style scoped>\n",
              "    .dataframe tbody tr th:only-of-type {\n",
              "        vertical-align: middle;\n",
              "    }\n",
              "\n",
              "    .dataframe tbody tr th {\n",
              "        vertical-align: top;\n",
              "    }\n",
              "\n",
              "    .dataframe thead th {\n",
              "        text-align: right;\n",
              "    }\n",
              "</style>\n",
              "<table border=\"1\" class=\"dataframe\">\n",
              "  <thead>\n",
              "    <tr style=\"text-align: right;\">\n",
              "      <th></th>\n",
              "      <th>Column name</th>\n",
              "      <th>Description</th>\n",
              "      <th>Format</th>\n",
              "    </tr>\n",
              "  </thead>\n",
              "  <tbody>\n",
              "    <tr>\n",
              "      <th>0</th>\n",
              "      <td>VILLES</td>\n",
              "      <td>City</td>\n",
              "      <td>String</td>\n",
              "    </tr>\n",
              "    <tr>\n",
              "      <th>1</th>\n",
              "      <td>STATUS</td>\n",
              "      <td>In Service or not</td>\n",
              "      <td>String</td>\n",
              "    </tr>\n",
              "    <tr>\n",
              "      <th>2</th>\n",
              "      <td>LOCALISATION</td>\n",
              "      <td>in ABIDJAN or not</td>\n",
              "      <td>String</td>\n",
              "    </tr>\n",
              "    <tr>\n",
              "      <th>3</th>\n",
              "      <td>DECOUPZONE</td>\n",
              "      <td>Geographical Zone</td>\n",
              "      <td>String</td>\n",
              "    </tr>\n",
              "    <tr>\n",
              "      <th>4</th>\n",
              "      <td>ZONENAME</td>\n",
              "      <td>Name of Zone</td>\n",
              "      <td>String</td>\n",
              "    </tr>\n",
              "    <tr>\n",
              "      <th>5</th>\n",
              "      <td>LONGITUDE</td>\n",
              "      <td>Longitude</td>\n",
              "      <td>Float</td>\n",
              "    </tr>\n",
              "    <tr>\n",
              "      <th>6</th>\n",
              "      <td>LATITUDE</td>\n",
              "      <td>Latitude</td>\n",
              "      <td>Float</td>\n",
              "    </tr>\n",
              "    <tr>\n",
              "      <th>7</th>\n",
              "      <td>REGION</td>\n",
              "      <td>Region</td>\n",
              "      <td>String</td>\n",
              "    </tr>\n",
              "    <tr>\n",
              "      <th>8</th>\n",
              "      <td>AREA</td>\n",
              "      <td>Area</td>\n",
              "      <td>String</td>\n",
              "    </tr>\n",
              "    <tr>\n",
              "      <th>9</th>\n",
              "      <td>CELL_ID</td>\n",
              "      <td>ID of the cell</td>\n",
              "      <td>String</td>\n",
              "    </tr>\n",
              "    <tr>\n",
              "      <th>10</th>\n",
              "      <td>SITE_CODE</td>\n",
              "      <td>Site (there are several cells per site, severa...</td>\n",
              "      <td>String</td>\n",
              "    </tr>\n",
              "  </tbody>\n",
              "</table>\n",
              "</div>"
            ],
            "text/plain": [
              "     Column name                                        Description  Format\n",
              "0         VILLES                                               City  String\n",
              "1         STATUS                                  In Service or not  String\n",
              "2   LOCALISATION                                  in ABIDJAN or not  String\n",
              "3     DECOUPZONE                                  Geographical Zone  String\n",
              "4       ZONENAME                                       Name of Zone  String\n",
              "5      LONGITUDE                                          Longitude   Float\n",
              "6       LATITUDE                                           Latitude   Float\n",
              "7         REGION                                             Region  String\n",
              "8           AREA                                               Area  String\n",
              "9        CELL_ID                                     ID of the cell  String\n",
              "10     SITE_CODE  Site (there are several cells per site, severa...  String"
            ]
          },
          "metadata": {
            "tags": []
          },
          "execution_count": 3
        }
      ]
    },
    {
      "cell_type": "code",
      "metadata": {
        "id": "AXJggalq_pxu",
        "colab_type": "code",
        "colab": {}
      },
      "source": [
        "gcol=['VILLES','STATUS','LOCALISATION','DECOUPZONE','ZONENAME','LONGITUDE','LATITUDE','REGION','AREA','CELL_ID','SITE_CODE']"
      ],
      "execution_count": 4,
      "outputs": []
    },
    {
      "cell_type": "code",
      "metadata": {
        "id": "kKmzAwWKzO4t",
        "colab_type": "code",
        "colab": {
          "base_uri": "https://localhost:8080/",
          "height": 391
        },
        "outputId": "73d10be9-f14e-4f28-b7eb-8171264dfe59"
      },
      "source": [
        "geo_cells"
      ],
      "execution_count": 5,
      "outputs": [
        {
          "output_type": "execute_result",
          "data": {
            "text/html": [
              "<div>\n",
              "<style scoped>\n",
              "    .dataframe tbody tr th:only-of-type {\n",
              "        vertical-align: middle;\n",
              "    }\n",
              "\n",
              "    .dataframe tbody tr th {\n",
              "        vertical-align: top;\n",
              "    }\n",
              "\n",
              "    .dataframe thead th {\n",
              "        text-align: right;\n",
              "    }\n",
              "</style>\n",
              "<table border=\"1\" class=\"dataframe\">\n",
              "  <thead>\n",
              "    <tr style=\"text-align: right;\">\n",
              "      <th></th>\n",
              "      <th>Unnamed: 0</th>\n",
              "      <th>VILLES</th>\n",
              "      <th>STATUS</th>\n",
              "      <th>LOCALISATION</th>\n",
              "      <th>DECOUPZONE</th>\n",
              "      <th>ZONENAME</th>\n",
              "      <th>LONGITUDE</th>\n",
              "      <th>LATITUDE</th>\n",
              "      <th>REGION</th>\n",
              "      <th>AREA</th>\n",
              "      <th>CELL_ID</th>\n",
              "      <th>SITE_CODE</th>\n",
              "    </tr>\n",
              "  </thead>\n",
              "  <tbody>\n",
              "    <tr>\n",
              "      <th>0</th>\n",
              "      <td>0</td>\n",
              "      <td>ADJAME</td>\n",
              "      <td>In Service</td>\n",
              "      <td>ABIDJAN</td>\n",
              "      <td>\"Abidjan_EST</td>\n",
              "      <td>AGBANNEW</td>\n",
              "      <td>-4.000667</td>\n",
              "      <td>5.368194</td>\n",
              "      <td>LAGUNE</td>\n",
              "      <td>NaN</td>\n",
              "      <td>fbb2e75af3</td>\n",
              "      <td>0bb492ef17</td>\n",
              "    </tr>\n",
              "    <tr>\n",
              "      <th>1</th>\n",
              "      <td>1</td>\n",
              "      <td>ADJAME</td>\n",
              "      <td>In Service</td>\n",
              "      <td>ABIDJAN</td>\n",
              "      <td>\"Abidjan_EST</td>\n",
              "      <td>AGBANNEW</td>\n",
              "      <td>-4.000667</td>\n",
              "      <td>5.368194</td>\n",
              "      <td>LAGUNE</td>\n",
              "      <td>NaN</td>\n",
              "      <td>1502501d78</td>\n",
              "      <td>0bb492ef17</td>\n",
              "    </tr>\n",
              "    <tr>\n",
              "      <th>2</th>\n",
              "      <td>2</td>\n",
              "      <td>ADJAME</td>\n",
              "      <td>In Service</td>\n",
              "      <td>ABIDJAN</td>\n",
              "      <td>\"Abidjan_EST</td>\n",
              "      <td>AGBANNEW</td>\n",
              "      <td>-4.000667</td>\n",
              "      <td>5.368194</td>\n",
              "      <td>LAGUNE</td>\n",
              "      <td>NaN</td>\n",
              "      <td>0c2e182a0c</td>\n",
              "      <td>0bb492ef17</td>\n",
              "    </tr>\n",
              "    <tr>\n",
              "      <th>3</th>\n",
              "      <td>3</td>\n",
              "      <td>ASSINIE</td>\n",
              "      <td>In Service</td>\n",
              "      <td>INTERIEUR</td>\n",
              "      <td>Grand-EST</td>\n",
              "      <td>ASSINIE\"</td>\n",
              "      <td>-3.488467</td>\n",
              "      <td>5.158761</td>\n",
              "      <td>SUD COMOE</td>\n",
              "      <td>NaN</td>\n",
              "      <td>69bdfc69fd</td>\n",
              "      <td>8a1e6ce31f</td>\n",
              "    </tr>\n",
              "    <tr>\n",
              "      <th>4</th>\n",
              "      <td>4</td>\n",
              "      <td>ASSINIE</td>\n",
              "      <td>In Service</td>\n",
              "      <td>INTERIEUR</td>\n",
              "      <td>Grand-EST</td>\n",
              "      <td>ASSINIE\"</td>\n",
              "      <td>-3.488467</td>\n",
              "      <td>5.158761</td>\n",
              "      <td>SUD COMOE</td>\n",
              "      <td>NaN</td>\n",
              "      <td>7a1029d2ab</td>\n",
              "      <td>8a1e6ce31f</td>\n",
              "    </tr>\n",
              "    <tr>\n",
              "      <th>...</th>\n",
              "      <td>...</td>\n",
              "      <td>...</td>\n",
              "      <td>...</td>\n",
              "      <td>...</td>\n",
              "      <td>...</td>\n",
              "      <td>...</td>\n",
              "      <td>...</td>\n",
              "      <td>...</td>\n",
              "      <td>...</td>\n",
              "      <td>...</td>\n",
              "      <td>...</td>\n",
              "      <td>...</td>\n",
              "    </tr>\n",
              "    <tr>\n",
              "      <th>3969</th>\n",
              "      <td>3969</td>\n",
              "      <td>ZUENOULA</td>\n",
              "      <td>In Service</td>\n",
              "      <td>INTERIEUR</td>\n",
              "      <td>Grand-NORD</td>\n",
              "      <td>ZONE A - Grand-NORD</td>\n",
              "      <td>-6.039694</td>\n",
              "      <td>7.428611</td>\n",
              "      <td>MARAHOUE</td>\n",
              "      <td>CENTRE NORTH</td>\n",
              "      <td>1cfc2d7ab1</td>\n",
              "      <td>f91ed8d2e9</td>\n",
              "    </tr>\n",
              "    <tr>\n",
              "      <th>3970</th>\n",
              "      <td>3970</td>\n",
              "      <td>ZUENOULA</td>\n",
              "      <td>In Service</td>\n",
              "      <td>INTERIEUR</td>\n",
              "      <td>Grand-NORD</td>\n",
              "      <td>ZONE A - Grand-NORD</td>\n",
              "      <td>-6.039694</td>\n",
              "      <td>7.428611</td>\n",
              "      <td>MARAHOUE</td>\n",
              "      <td>CENTRE NORTH</td>\n",
              "      <td>3ae1708153</td>\n",
              "      <td>f91ed8d2e9</td>\n",
              "    </tr>\n",
              "    <tr>\n",
              "      <th>3971</th>\n",
              "      <td>3971</td>\n",
              "      <td>ZUENOULA</td>\n",
              "      <td>In Service</td>\n",
              "      <td>INTERIEUR</td>\n",
              "      <td>Grand-NORD</td>\n",
              "      <td>ZONE A - Grand-NORD</td>\n",
              "      <td>-6.065450</td>\n",
              "      <td>7.444592</td>\n",
              "      <td>MARAHOUE</td>\n",
              "      <td>CENTRE NORTH</td>\n",
              "      <td>cb71f8a29c</td>\n",
              "      <td>61bee9c70c</td>\n",
              "    </tr>\n",
              "    <tr>\n",
              "      <th>3972</th>\n",
              "      <td>3972</td>\n",
              "      <td>ZUENOULA</td>\n",
              "      <td>In Service</td>\n",
              "      <td>INTERIEUR</td>\n",
              "      <td>Grand-NORD</td>\n",
              "      <td>ZONE A - Grand-NORD</td>\n",
              "      <td>-6.065450</td>\n",
              "      <td>7.444592</td>\n",
              "      <td>MARAHOUE</td>\n",
              "      <td>CENTRE NORTH</td>\n",
              "      <td>d4a6a0b645</td>\n",
              "      <td>61bee9c70c</td>\n",
              "    </tr>\n",
              "    <tr>\n",
              "      <th>3973</th>\n",
              "      <td>3973</td>\n",
              "      <td>ZUENOULA</td>\n",
              "      <td>In Service</td>\n",
              "      <td>INTERIEUR</td>\n",
              "      <td>Grand-NORD</td>\n",
              "      <td>ZONE A - Grand-NORD</td>\n",
              "      <td>-6.065450</td>\n",
              "      <td>7.444592</td>\n",
              "      <td>MARAHOUE</td>\n",
              "      <td>CENTRE NORTH</td>\n",
              "      <td>f9f3e42589</td>\n",
              "      <td>61bee9c70c</td>\n",
              "    </tr>\n",
              "  </tbody>\n",
              "</table>\n",
              "<p>3974 rows × 12 columns</p>\n",
              "</div>"
            ],
            "text/plain": [
              "      Unnamed: 0    VILLES      STATUS  ...          AREA     CELL_ID   SITE_CODE\n",
              "0              0    ADJAME  In Service  ...           NaN  fbb2e75af3  0bb492ef17\n",
              "1              1    ADJAME  In Service  ...           NaN  1502501d78  0bb492ef17\n",
              "2              2    ADJAME  In Service  ...           NaN  0c2e182a0c  0bb492ef17\n",
              "3              3   ASSINIE  In Service  ...           NaN  69bdfc69fd  8a1e6ce31f\n",
              "4              4   ASSINIE  In Service  ...           NaN  7a1029d2ab  8a1e6ce31f\n",
              "...          ...       ...         ...  ...           ...         ...         ...\n",
              "3969        3969  ZUENOULA  In Service  ...  CENTRE NORTH  1cfc2d7ab1  f91ed8d2e9\n",
              "3970        3970  ZUENOULA  In Service  ...  CENTRE NORTH  3ae1708153  f91ed8d2e9\n",
              "3971        3971  ZUENOULA  In Service  ...  CENTRE NORTH  cb71f8a29c  61bee9c70c\n",
              "3972        3972  ZUENOULA  In Service  ...  CENTRE NORTH  d4a6a0b645  61bee9c70c\n",
              "3973        3973  ZUENOULA  In Service  ...  CENTRE NORTH  f9f3e42589  61bee9c70c\n",
              "\n",
              "[3974 rows x 12 columns]"
            ]
          },
          "metadata": {
            "tags": []
          },
          "execution_count": 5
        }
      ]
    },
    {
      "cell_type": "code",
      "metadata": {
        "id": "pSZZFrX7CQFG",
        "colab_type": "code",
        "colab": {
          "base_uri": "https://localhost:8080/",
          "height": 326
        },
        "outputId": "68d26579-19bc-4e66-d946-a44bf6a7be45"
      },
      "source": [
        "geo_cells.info()"
      ],
      "execution_count": 6,
      "outputs": [
        {
          "output_type": "stream",
          "text": [
            "<class 'pandas.core.frame.DataFrame'>\n",
            "RangeIndex: 3974 entries, 0 to 3973\n",
            "Data columns (total 12 columns):\n",
            " #   Column        Non-Null Count  Dtype  \n",
            "---  ------        --------------  -----  \n",
            " 0   Unnamed: 0    3974 non-null   int64  \n",
            " 1   VILLES        3974 non-null   object \n",
            " 2   STATUS        3907 non-null   object \n",
            " 3   LOCALISATION  3974 non-null   object \n",
            " 4   DECOUPZONE    3974 non-null   object \n",
            " 5   ZONENAME      3968 non-null   object \n",
            " 6   LONGITUDE     3974 non-null   float64\n",
            " 7   LATITUDE      3974 non-null   float64\n",
            " 8   REGION        3974 non-null   object \n",
            " 9   AREA          3951 non-null   object \n",
            " 10  CELL_ID       3974 non-null   object \n",
            " 11  SITE_CODE     3974 non-null   object \n",
            "dtypes: float64(2), int64(1), object(9)\n",
            "memory usage: 372.7+ KB\n"
          ],
          "name": "stdout"
        }
      ]
    },
    {
      "cell_type": "code",
      "metadata": {
        "id": "UFigEZYHCDoI",
        "colab_type": "code",
        "colab": {
          "base_uri": "https://localhost:8080/",
          "height": 228
        },
        "outputId": "c3706647-1fe5-49a8-aa96-71adfe64b992"
      },
      "source": [
        "geo_cells.isnull().sum()"
      ],
      "execution_count": 7,
      "outputs": [
        {
          "output_type": "execute_result",
          "data": {
            "text/plain": [
              "Unnamed: 0       0\n",
              "VILLES           0\n",
              "STATUS          67\n",
              "LOCALISATION     0\n",
              "DECOUPZONE       0\n",
              "ZONENAME         6\n",
              "LONGITUDE        0\n",
              "LATITUDE         0\n",
              "REGION           0\n",
              "AREA            23\n",
              "CELL_ID          0\n",
              "SITE_CODE        0\n",
              "dtype: int64"
            ]
          },
          "metadata": {
            "tags": []
          },
          "execution_count": 7
        }
      ]
    },
    {
      "cell_type": "code",
      "metadata": {
        "id": "t0wQ6TDgzSsS",
        "colab_type": "code",
        "colab": {
          "base_uri": "https://localhost:8080/",
          "height": 335
        },
        "outputId": "965db616-c2c0-475e-c28b-ee0f59434757"
      },
      "source": [
        "tel_descr"
      ],
      "execution_count": 8,
      "outputs": [
        {
          "output_type": "execute_result",
          "data": {
            "text/html": [
              "<div>\n",
              "<style scoped>\n",
              "    .dataframe tbody tr th:only-of-type {\n",
              "        vertical-align: middle;\n",
              "    }\n",
              "\n",
              "    .dataframe tbody tr th {\n",
              "        vertical-align: top;\n",
              "    }\n",
              "\n",
              "    .dataframe thead th {\n",
              "        text-align: right;\n",
              "    }\n",
              "</style>\n",
              "<table border=\"1\" class=\"dataframe\">\n",
              "  <thead>\n",
              "    <tr style=\"text-align: right;\">\n",
              "      <th></th>\n",
              "      <th>Column name</th>\n",
              "      <th>Description</th>\n",
              "      <th>Format</th>\n",
              "    </tr>\n",
              "  </thead>\n",
              "  <tbody>\n",
              "    <tr>\n",
              "      <th>0</th>\n",
              "      <td>PRODUCT</td>\n",
              "      <td>Voice or SMS</td>\n",
              "      <td>String</td>\n",
              "    </tr>\n",
              "    <tr>\n",
              "      <th>1</th>\n",
              "      <td>VALUE</td>\n",
              "      <td>Billing price</td>\n",
              "      <td>Integer</td>\n",
              "    </tr>\n",
              "    <tr>\n",
              "      <th>2</th>\n",
              "      <td>DATE_TIME</td>\n",
              "      <td>Time in format yyyy-MM-dd hh:mm:ss.0</td>\n",
              "      <td>String</td>\n",
              "    </tr>\n",
              "    <tr>\n",
              "      <th>3</th>\n",
              "      <td>CELL_ON_SITE</td>\n",
              "      <td>Which cell in the site was used (not needed here)</td>\n",
              "      <td>Integer</td>\n",
              "    </tr>\n",
              "    <tr>\n",
              "      <th>4</th>\n",
              "      <td>DW_A_NUMBER_INT</td>\n",
              "      <td>Anonymized phone number of the person for whic...</td>\n",
              "      <td>String</td>\n",
              "    </tr>\n",
              "    <tr>\n",
              "      <th>5</th>\n",
              "      <td>DW_B_NUMBER_INT</td>\n",
              "      <td>Anonymized phone number of the counterparty</td>\n",
              "      <td>String</td>\n",
              "    </tr>\n",
              "    <tr>\n",
              "      <th>6</th>\n",
              "      <td>COUNTRY_A</td>\n",
              "      <td>Country of party A (useless here)</td>\n",
              "      <td>String</td>\n",
              "    </tr>\n",
              "    <tr>\n",
              "      <th>7</th>\n",
              "      <td>COUNTRY_B</td>\n",
              "      <td>Country of party B (useless here)</td>\n",
              "      <td>String</td>\n",
              "    </tr>\n",
              "    <tr>\n",
              "      <th>8</th>\n",
              "      <td>CELL_ID</td>\n",
              "      <td>ID of the cell</td>\n",
              "      <td>String</td>\n",
              "    </tr>\n",
              "    <tr>\n",
              "      <th>9</th>\n",
              "      <td>SITE_ID</td>\n",
              "      <td>ID of the SITE</td>\n",
              "      <td>String</td>\n",
              "    </tr>\n",
              "  </tbody>\n",
              "</table>\n",
              "</div>"
            ],
            "text/plain": [
              "       Column name                                        Description   Format\n",
              "0          PRODUCT                                       Voice or SMS   String\n",
              "1            VALUE                                      Billing price  Integer\n",
              "2        DATE_TIME               Time in format yyyy-MM-dd hh:mm:ss.0   String\n",
              "3     CELL_ON_SITE  Which cell in the site was used (not needed here)  Integer\n",
              "4  DW_A_NUMBER_INT  Anonymized phone number of the person for whic...   String\n",
              "5  DW_B_NUMBER_INT        Anonymized phone number of the counterparty   String\n",
              "6        COUNTRY_A                  Country of party A (useless here)   String\n",
              "7        COUNTRY_B                  Country of party B (useless here)   String\n",
              "8          CELL_ID                                     ID of the cell   String\n",
              "9          SITE_ID                                     ID of the SITE   String"
            ]
          },
          "metadata": {
            "tags": []
          },
          "execution_count": 8
        }
      ]
    },
    {
      "cell_type": "code",
      "metadata": {
        "id": "IYYX3Tae6OLW",
        "colab_type": "code",
        "colab": {}
      },
      "source": [
        "col=['PRODUCT','VALUE','DATE_TIME','CELL_ON_SITE','DW_A_NUMBER_INT','DW_B_NUMBER_INT','COUNTRY_A','COUNTRY_B','CELL_ID','SITE_ID']"
      ],
      "execution_count": 9,
      "outputs": []
    },
    {
      "cell_type": "code",
      "metadata": {
        "id": "7sXj7NsIzWx6",
        "colab_type": "code",
        "colab": {}
      },
      "source": [
        "tel_set_1.columns=col\n",
        "tel_set_2.columns=col\n",
        "tel_set_3.columns=col"
      ],
      "execution_count": 10,
      "outputs": []
    },
    {
      "cell_type": "markdown",
      "metadata": {
        "id": "-df8X6_yx2Nx",
        "colab_type": "text"
      },
      "source": [
        "merging the telcom datasets into one because they are pretty much one split dataset"
      ]
    },
    {
      "cell_type": "code",
      "metadata": {
        "id": "Cpg-FYGT9Un-",
        "colab_type": "code",
        "colab": {
          "base_uri": "https://localhost:8080/",
          "height": 391
        },
        "outputId": "8b96c186-eb76-4601-b280-ccba3c73d258"
      },
      "source": [
        "dfrs=[tel_set_1,tel_set_2,tel_set_3]\n",
        "telcom=pd.concat(dfrs)\n",
        "telcom"
      ],
      "execution_count": 11,
      "outputs": [
        {
          "output_type": "execute_result",
          "data": {
            "text/html": [
              "<div>\n",
              "<style scoped>\n",
              "    .dataframe tbody tr th:only-of-type {\n",
              "        vertical-align: middle;\n",
              "    }\n",
              "\n",
              "    .dataframe tbody tr th {\n",
              "        vertical-align: top;\n",
              "    }\n",
              "\n",
              "    .dataframe thead th {\n",
              "        text-align: right;\n",
              "    }\n",
              "</style>\n",
              "<table border=\"1\" class=\"dataframe\">\n",
              "  <thead>\n",
              "    <tr style=\"text-align: right;\">\n",
              "      <th></th>\n",
              "      <th>PRODUCT</th>\n",
              "      <th>VALUE</th>\n",
              "      <th>DATE_TIME</th>\n",
              "      <th>CELL_ON_SITE</th>\n",
              "      <th>DW_A_NUMBER_INT</th>\n",
              "      <th>DW_B_NUMBER_INT</th>\n",
              "      <th>COUNTRY_A</th>\n",
              "      <th>COUNTRY_B</th>\n",
              "      <th>CELL_ID</th>\n",
              "      <th>SITE_ID</th>\n",
              "    </tr>\n",
              "  </thead>\n",
              "  <tbody>\n",
              "    <tr>\n",
              "      <th>0</th>\n",
              "      <td>Voice</td>\n",
              "      <td>0</td>\n",
              "      <td>2012-05-06 23:04:37.0</td>\n",
              "      <td>1</td>\n",
              "      <td>49fae048b547780</td>\n",
              "      <td>1a49f8b0ded9de6</td>\n",
              "      <td>19e2e</td>\n",
              "      <td>19e2e</td>\n",
              "      <td>/TJNe+Mmtu</td>\n",
              "      <td>/TJNe+Mmtu</td>\n",
              "    </tr>\n",
              "    <tr>\n",
              "      <th>1</th>\n",
              "      <td>sms</td>\n",
              "      <td>0</td>\n",
              "      <td>2012-05-06 23:05:25.0</td>\n",
              "      <td>0</td>\n",
              "      <td>7a54a6eaee19e65</td>\n",
              "      <td>93343ba6e41af95</td>\n",
              "      <td>19e2e</td>\n",
              "      <td>19e2e</td>\n",
              "      <td>/+cKZKIp41</td>\n",
              "      <td>/+cKZKIp41</td>\n",
              "    </tr>\n",
              "    <tr>\n",
              "      <th>2</th>\n",
              "      <td>sms</td>\n",
              "      <td>25</td>\n",
              "      <td>2012-05-06 23:05:41.0</td>\n",
              "      <td>0</td>\n",
              "      <td>6008887b0207d82</td>\n",
              "      <td>7aacc9709ce0a20</td>\n",
              "      <td>19e2e</td>\n",
              "      <td>19e2e</td>\n",
              "      <td>/u0FSD+ahi</td>\n",
              "      <td>/u0FSD+ahi</td>\n",
              "    </tr>\n",
              "    <tr>\n",
              "      <th>3</th>\n",
              "      <td>Voice</td>\n",
              "      <td>56</td>\n",
              "      <td>2012-05-06 23:05:42.0</td>\n",
              "      <td>1</td>\n",
              "      <td>7370032e20f4e96</td>\n",
              "      <td>6af4a60e74c91d3</td>\n",
              "      <td>19e2e</td>\n",
              "      <td>19e2e</td>\n",
              "      <td>+cNeJzsTp3</td>\n",
              "      <td>+cNeJzsTp3</td>\n",
              "    </tr>\n",
              "    <tr>\n",
              "      <th>4</th>\n",
              "      <td>Voice</td>\n",
              "      <td>14</td>\n",
              "      <td>2012-05-06 23:06:29.0</td>\n",
              "      <td>1</td>\n",
              "      <td>966ba4656e38e62</td>\n",
              "      <td>02aa736ee555d5c</td>\n",
              "      <td>19e2e</td>\n",
              "      <td>19e2e</td>\n",
              "      <td>051KhYDCpv</td>\n",
              "      <td>051KhYDCpv</td>\n",
              "    </tr>\n",
              "    <tr>\n",
              "      <th>...</th>\n",
              "      <td>...</td>\n",
              "      <td>...</td>\n",
              "      <td>...</td>\n",
              "      <td>...</td>\n",
              "      <td>...</td>\n",
              "      <td>...</td>\n",
              "      <td>...</td>\n",
              "      <td>...</td>\n",
              "      <td>...</td>\n",
              "      <td>...</td>\n",
              "    </tr>\n",
              "    <tr>\n",
              "      <th>4996</th>\n",
              "      <td>Voice</td>\n",
              "      <td>0</td>\n",
              "      <td>2012-05-09 00:01:43.0</td>\n",
              "      <td>3</td>\n",
              "      <td>467333ade2b4b9c</td>\n",
              "      <td>0ab2acd804d01fe</td>\n",
              "      <td>19e2e</td>\n",
              "      <td>19e2e</td>\n",
              "      <td>2aa04dcab7</td>\n",
              "      <td>f7d63a29e5</td>\n",
              "    </tr>\n",
              "    <tr>\n",
              "      <th>4997</th>\n",
              "      <td>Voice</td>\n",
              "      <td>62</td>\n",
              "      <td>2012-05-09 00:01:43.0</td>\n",
              "      <td>1</td>\n",
              "      <td>e077a6b74c5053c</td>\n",
              "      <td>4c8098eb6ea1a41</td>\n",
              "      <td>19e2e</td>\n",
              "      <td>19e2e</td>\n",
              "      <td>7f1f2f889f</td>\n",
              "      <td>b4ddb9e93c</td>\n",
              "    </tr>\n",
              "    <tr>\n",
              "      <th>4998</th>\n",
              "      <td>Voice</td>\n",
              "      <td>32</td>\n",
              "      <td>2012-05-09 00:01:43.0</td>\n",
              "      <td>1</td>\n",
              "      <td>77f53c39d27c050</td>\n",
              "      <td>9d064f013e2cab2</td>\n",
              "      <td>19e2e</td>\n",
              "      <td>19e2e</td>\n",
              "      <td>a4731e780e</td>\n",
              "      <td>d68260ef50</td>\n",
              "    </tr>\n",
              "    <tr>\n",
              "      <th>4999</th>\n",
              "      <td>Voice</td>\n",
              "      <td>30</td>\n",
              "      <td>2012-05-09 00:01:43.0</td>\n",
              "      <td>2</td>\n",
              "      <td>672ce74c418aa7a</td>\n",
              "      <td>f9ff5af59cf0d68</td>\n",
              "      <td>19e2e</td>\n",
              "      <td>19e2e</td>\n",
              "      <td>98ed726da2</td>\n",
              "      <td>b4130b54ab</td>\n",
              "    </tr>\n",
              "    <tr>\n",
              "      <th>5000</th>\n",
              "      <td>Voice</td>\n",
              "      <td>60</td>\n",
              "      <td>2012-05-09 00:01:43.0</td>\n",
              "      <td>2</td>\n",
              "      <td>6edeb4c55714650</td>\n",
              "      <td>7e60838216482a7</td>\n",
              "      <td>19e2e</td>\n",
              "      <td>19e2e</td>\n",
              "      <td>1c11a2fcbb</td>\n",
              "      <td>6d70dae094</td>\n",
              "    </tr>\n",
              "  </tbody>\n",
              "</table>\n",
              "<p>15003 rows × 10 columns</p>\n",
              "</div>"
            ],
            "text/plain": [
              "     PRODUCT  VALUE              DATE_TIME  ... COUNTRY_B     CELL_ID     SITE_ID\n",
              "0      Voice      0  2012-05-06 23:04:37.0  ...     19e2e  /TJNe+Mmtu  /TJNe+Mmtu\n",
              "1        sms      0  2012-05-06 23:05:25.0  ...     19e2e  /+cKZKIp41  /+cKZKIp41\n",
              "2        sms     25  2012-05-06 23:05:41.0  ...     19e2e  /u0FSD+ahi  /u0FSD+ahi\n",
              "3      Voice     56  2012-05-06 23:05:42.0  ...     19e2e  +cNeJzsTp3  +cNeJzsTp3\n",
              "4      Voice     14  2012-05-06 23:06:29.0  ...     19e2e  051KhYDCpv  051KhYDCpv\n",
              "...      ...    ...                    ...  ...       ...         ...         ...\n",
              "4996   Voice      0  2012-05-09 00:01:43.0  ...     19e2e  2aa04dcab7  f7d63a29e5\n",
              "4997   Voice     62  2012-05-09 00:01:43.0  ...     19e2e  7f1f2f889f  b4ddb9e93c\n",
              "4998   Voice     32  2012-05-09 00:01:43.0  ...     19e2e  a4731e780e  d68260ef50\n",
              "4999   Voice     30  2012-05-09 00:01:43.0  ...     19e2e  98ed726da2  b4130b54ab\n",
              "5000   Voice     60  2012-05-09 00:01:43.0  ...     19e2e  1c11a2fcbb  6d70dae094\n",
              "\n",
              "[15003 rows x 10 columns]"
            ]
          },
          "metadata": {
            "tags": []
          },
          "execution_count": 11
        }
      ]
    },
    {
      "cell_type": "markdown",
      "metadata": {
        "id": "tWyvicL98Ub_",
        "colab_type": "text"
      },
      "source": [
        "## Preparation "
      ]
    },
    {
      "cell_type": "markdown",
      "metadata": {
        "id": "QmOh659SBvAF",
        "colab_type": "text"
      },
      "source": [
        "Removing unnecessary columns"
      ]
    },
    {
      "cell_type": "code",
      "metadata": {
        "id": "MoTS__hlAWL9",
        "colab_type": "code",
        "colab": {}
      },
      "source": [
        "telcom.drop(columns=['CELL_ON_SITE','COUNTRY_A','COUNTRY_B'],inplace=True)"
      ],
      "execution_count": 12,
      "outputs": []
    },
    {
      "cell_type": "markdown",
      "metadata": {
        "id": "mu4_k73r3GkC",
        "colab_type": "text"
      },
      "source": [
        "dropping duplicates"
      ]
    },
    {
      "cell_type": "code",
      "metadata": {
        "id": "QEJtQKkNCMa9",
        "colab_type": "code",
        "colab": {
          "base_uri": "https://localhost:8080/",
          "height": 33
        },
        "outputId": "5dec74bd-9b77-4b98-943a-4adb2f848fe8"
      },
      "source": [
        "telcom.duplicated().sum()"
      ],
      "execution_count": 13,
      "outputs": [
        {
          "output_type": "execute_result",
          "data": {
            "text/plain": [
              "253"
            ]
          },
          "metadata": {
            "tags": []
          },
          "execution_count": 13
        }
      ]
    },
    {
      "cell_type": "code",
      "metadata": {
        "id": "zAtWu3p8COdk",
        "colab_type": "code",
        "colab": {}
      },
      "source": [
        "telcom=telcom.drop_duplicates()"
      ],
      "execution_count": 14,
      "outputs": []
    },
    {
      "cell_type": "markdown",
      "metadata": {
        "id": "PGQ519olvpTR",
        "colab_type": "text"
      },
      "source": [
        "Fixing the time format from the dataset"
      ]
    },
    {
      "cell_type": "code",
      "metadata": {
        "id": "CVNW2_xS8dIN",
        "colab_type": "code",
        "colab": {
          "base_uri": "https://localhost:8080/",
          "height": 33
        },
        "outputId": "172a8dec-aa72-49ac-debd-5329549d370e"
      },
      "source": [
        "pd.to_datetime('2012-05-07 00:00:47.0')"
      ],
      "execution_count": 15,
      "outputs": [
        {
          "output_type": "execute_result",
          "data": {
            "text/plain": [
              "Timestamp('2012-05-07 00:00:47')"
            ]
          },
          "metadata": {
            "tags": []
          },
          "execution_count": 15
        }
      ]
    },
    {
      "cell_type": "markdown",
      "metadata": {
        "id": "VYoV1Ir1FVUP",
        "colab_type": "text"
      },
      "source": [
        "so it makes no difference"
      ]
    },
    {
      "cell_type": "code",
      "metadata": {
        "id": "gJ6E5kmNSWFY",
        "colab_type": "code",
        "colab": {}
      },
      "source": [
        "telcom[['date','time']]=telcom['DATE_TIME'].str.split(' ',expand=True)"
      ],
      "execution_count": null,
      "outputs": []
    },
    {
      "cell_type": "markdown",
      "metadata": {
        "id": "Tv4ywGg5Ersv",
        "colab_type": "text"
      },
      "source": [
        "checking to see if values exist in both telcom dataset and geography dataset"
      ]
    },
    {
      "cell_type": "code",
      "metadata": {
        "id": "pzy522hk_9l-",
        "colab_type": "code",
        "colab": {
          "base_uri": "https://localhost:8080/",
          "height": 33
        },
        "outputId": "0e816930-8376-481b-efec-ffe38b0f794a"
      },
      "source": [
        "geo_cells.REGION.count()"
      ],
      "execution_count": 17,
      "outputs": [
        {
          "output_type": "execute_result",
          "data": {
            "text/plain": [
              "3974"
            ]
          },
          "metadata": {
            "tags": []
          },
          "execution_count": 17
        }
      ]
    },
    {
      "cell_type": "code",
      "metadata": {
        "id": "1lTEMJfGE-wJ",
        "colab_type": "code",
        "colab": {
          "base_uri": "https://localhost:8080/",
          "height": 33
        },
        "outputId": "d1b75808-19c2-4b1b-cf3d-e72c3b6e8a98"
      },
      "source": [
        "geo_cells.CELL_ID[geo_cells['CELL_ID']=='7f1f2f889f'].count()"
      ],
      "execution_count": 18,
      "outputs": [
        {
          "output_type": "execute_result",
          "data": {
            "text/plain": [
              "0"
            ]
          },
          "metadata": {
            "tags": []
          },
          "execution_count": 18
        }
      ]
    },
    {
      "cell_type": "code",
      "metadata": {
        "id": "nm5HyWUSDdEZ",
        "colab_type": "code",
        "colab": {
          "base_uri": "https://localhost:8080/",
          "height": 33
        },
        "outputId": "6b7f2800-cba4-4cb7-ae50-52f85e48fd05"
      },
      "source": [
        "geo_cells.SITE_CODE[geo_cells['SITE_CODE']=='6d70dae094'].count()"
      ],
      "execution_count": 19,
      "outputs": [
        {
          "output_type": "execute_result",
          "data": {
            "text/plain": [
              "6"
            ]
          },
          "metadata": {
            "tags": []
          },
          "execution_count": 19
        }
      ]
    },
    {
      "cell_type": "markdown",
      "metadata": {
        "id": "IwruFyveFZAw",
        "colab_type": "text"
      },
      "source": [
        "merging telcom and geography datasets"
      ]
    },
    {
      "cell_type": "code",
      "metadata": {
        "id": "ve4X79dOFhZC",
        "colab_type": "code",
        "colab": {}
      },
      "source": [
        "both=telcom.merge(geo_cells,left_on='SITE_ID',right_on='SITE_CODE')"
      ],
      "execution_count": 20,
      "outputs": []
    },
    {
      "cell_type": "code",
      "metadata": {
        "id": "w4A0PePIPRoD",
        "colab_type": "code",
        "colab": {
          "base_uri": "https://localhost:8080/",
          "height": 472
        },
        "outputId": "b362056c-e55f-43eb-9b17-a05c4e21a53a"
      },
      "source": [
        "both.info()"
      ],
      "execution_count": 21,
      "outputs": [
        {
          "output_type": "stream",
          "text": [
            "<class 'pandas.core.frame.DataFrame'>\n",
            "Int64Index: 50318 entries, 0 to 50317\n",
            "Data columns (total 21 columns):\n",
            " #   Column           Non-Null Count  Dtype  \n",
            "---  ------           --------------  -----  \n",
            " 0   PRODUCT          50318 non-null  object \n",
            " 1   VALUE            50318 non-null  int64  \n",
            " 2   DATE_TIME        50318 non-null  object \n",
            " 3   DW_A_NUMBER_INT  50318 non-null  object \n",
            " 4   DW_B_NUMBER_INT  50318 non-null  object \n",
            " 5   CELL_ID_x        50318 non-null  object \n",
            " 6   SITE_ID          50318 non-null  object \n",
            " 7   date             50318 non-null  object \n",
            " 8   time             50318 non-null  object \n",
            " 9   Unnamed: 0       50318 non-null  int64  \n",
            " 10  VILLES           50318 non-null  object \n",
            " 11  STATUS           49615 non-null  object \n",
            " 12  LOCALISATION     50318 non-null  object \n",
            " 13  DECOUPZONE       50318 non-null  object \n",
            " 14  ZONENAME         50300 non-null  object \n",
            " 15  LONGITUDE        50318 non-null  float64\n",
            " 16  LATITUDE         50318 non-null  float64\n",
            " 17  REGION           50318 non-null  object \n",
            " 18  AREA             50062 non-null  object \n",
            " 19  CELL_ID_y        50318 non-null  object \n",
            " 20  SITE_CODE        50318 non-null  object \n",
            "dtypes: float64(2), int64(2), object(17)\n",
            "memory usage: 8.4+ MB\n"
          ],
          "name": "stdout"
        }
      ]
    },
    {
      "cell_type": "markdown",
      "metadata": {
        "id": "0DvsgXD2JCfz",
        "colab_type": "text"
      },
      "source": [
        "removed redundant SITE_CODE column"
      ]
    },
    {
      "cell_type": "code",
      "metadata": {
        "id": "ow_dtim8IXWZ",
        "colab_type": "code",
        "colab": {}
      },
      "source": [
        "both=both.drop(columns='SITE_CODE')"
      ],
      "execution_count": 22,
      "outputs": []
    },
    {
      "cell_type": "code",
      "metadata": {
        "id": "bFBGKcTtKg3X",
        "colab_type": "code",
        "colab": {
          "base_uri": "https://localhost:8080/",
          "height": 358
        },
        "outputId": "d3cda153-9ce0-407d-836e-865d735087d0"
      },
      "source": [
        "both.isnull().sum()"
      ],
      "execution_count": 23,
      "outputs": [
        {
          "output_type": "execute_result",
          "data": {
            "text/plain": [
              "PRODUCT              0\n",
              "VALUE                0\n",
              "DATE_TIME            0\n",
              "DW_A_NUMBER_INT      0\n",
              "DW_B_NUMBER_INT      0\n",
              "CELL_ID_x            0\n",
              "SITE_ID              0\n",
              "date                 0\n",
              "time                 0\n",
              "Unnamed: 0           0\n",
              "VILLES               0\n",
              "STATUS             703\n",
              "LOCALISATION         0\n",
              "DECOUPZONE           0\n",
              "ZONENAME            18\n",
              "LONGITUDE            0\n",
              "LATITUDE             0\n",
              "REGION               0\n",
              "AREA               256\n",
              "CELL_ID_y            0\n",
              "dtype: int64"
            ]
          },
          "metadata": {
            "tags": []
          },
          "execution_count": 23
        }
      ]
    },
    {
      "cell_type": "code",
      "metadata": {
        "id": "z_74HaWJpXGj",
        "colab_type": "code",
        "colab": {
          "base_uri": "https://localhost:8080/",
          "height": 33
        },
        "outputId": "192fa943-81ab-4a97-baf5-4c690e92be6b"
      },
      "source": [
        "both.STATUS.unique()"
      ],
      "execution_count": 24,
      "outputs": [
        {
          "output_type": "execute_result",
          "data": {
            "text/plain": [
              "array(['In Service', nan], dtype=object)"
            ]
          },
          "metadata": {
            "tags": []
          },
          "execution_count": 24
        }
      ]
    },
    {
      "cell_type": "code",
      "metadata": {
        "id": "XFrLkF7-pqjY",
        "colab_type": "code",
        "colab": {
          "base_uri": "https://localhost:8080/",
          "height": 212
        },
        "outputId": "59fa2ed8-0ef4-4695-c1d5-5937133b8ea3"
      },
      "source": [
        "both['ZONENAME'].unique()"
      ],
      "execution_count": 25,
      "outputs": [
        {
          "output_type": "execute_result",
          "data": {
            "text/plain": [
              "array(['ZONE A - Grand-NORD', 'ZONE A - Abidjan_CENTRE',\n",
              "       'ZONE C - Abidjan_OUEST', 'ZONE E - Abidjan_NORD',\n",
              "       'ZONE B - Grand-SUD', 'ZONE D - Grand-OUEST',\n",
              "       'ZONE D - Abidjan_SUD', 'ZONE B - Abidjan_EST',\n",
              "       'ZONE C - Grand-EST', 'ZONE E - SUD-OUEST', 'OKAHOTEL',\n",
              "       'WILLIAMSVILLE2', 'PALMABINGERVILLE', 'ZONE D - Abidjan_EST',\n",
              "       'NPONON', 'ZONE B - Abidjan_OUEST', 'ZONE A - Abidjan_OUEST',\n",
              "       'ZONE D - Grand-SUD', 'ZONE A - Grand-SUD', 'ZONE A - Grand-EST',\n",
              "       'ZONE C - Abidjan_EST', 'AGBANNEW', 'ZONE B - Abidjan_SUD',\n",
              "       'ZONE C - Abidjan_SUD', nan, 'ZONE B - Grand-NORD',\n",
              "       'ZONE B - Grand-EST', 'ZONE B - Abidjan_Nord',\n",
              "       'ZONE B - Abidjan-EST', 'ZONE B - Abidjan_CENTRE'], dtype=object)"
            ]
          },
          "metadata": {
            "tags": []
          },
          "execution_count": 25
        }
      ]
    },
    {
      "cell_type": "code",
      "metadata": {
        "id": "6wgWGANypwU4",
        "colab_type": "code",
        "colab": {
          "base_uri": "https://localhost:8080/",
          "height": 50
        },
        "outputId": "afdf604c-75f9-4107-ac03-03894d01afe5"
      },
      "source": [
        "both.AREA.unique()"
      ],
      "execution_count": 26,
      "outputs": [
        {
          "output_type": "execute_result",
          "data": {
            "text/plain": [
              "array(['CENTRE NORTH', 'ABIDJAN SOUTH', 'ABIDJAN NORTH', 'NORTH WEST',\n",
              "       'EAST', 'SOUTH WEST', nan], dtype=object)"
            ]
          },
          "metadata": {
            "tags": []
          },
          "execution_count": 26
        }
      ]
    },
    {
      "cell_type": "code",
      "metadata": {
        "id": "tcFSt7E_ZDhk",
        "colab_type": "code",
        "colab": {}
      },
      "source": [
        "both.fillna('-',inplace=True)"
      ],
      "execution_count": 27,
      "outputs": []
    },
    {
      "cell_type": "code",
      "metadata": {
        "id": "O1zt3bUPGh1h",
        "colab_type": "code",
        "colab": {
          "base_uri": "https://localhost:8080/",
          "height": 456
        },
        "outputId": "e101f158-f872-40a3-e915-f454c9af3001"
      },
      "source": [
        "both.info()"
      ],
      "execution_count": 32,
      "outputs": [
        {
          "output_type": "stream",
          "text": [
            "<class 'pandas.core.frame.DataFrame'>\n",
            "Int64Index: 50318 entries, 0 to 50317\n",
            "Data columns (total 20 columns):\n",
            " #   Column              Non-Null Count  Dtype  \n",
            "---  ------              --------------  -----  \n",
            " 0   PRODUCT             50318 non-null  object \n",
            " 1   VALUE               50318 non-null  int64  \n",
            " 2   DATE_TIME           50318 non-null  object \n",
            " 3   DW_A_NUMBER_INT     50318 non-null  object \n",
            " 4   DW_B_NUMBER_INT     50318 non-null  object \n",
            " 5   CELL_ID_x           50318 non-null  object \n",
            " 6   SITE_ID             50318 non-null  object \n",
            " 7   date                50318 non-null  object \n",
            " 8   time                50318 non-null  object \n",
            " 9   caller2receiver_id  50318 non-null  int64  \n",
            " 10  VILLES              50318 non-null  object \n",
            " 11  STATUS              50318 non-null  object \n",
            " 12  LOCALISATION        50318 non-null  object \n",
            " 13  DECOUPZONE          50318 non-null  object \n",
            " 14  ZONENAME            50318 non-null  object \n",
            " 15  LONGITUDE           50318 non-null  float64\n",
            " 16  LATITUDE            50318 non-null  float64\n",
            " 17  REGION              50318 non-null  object \n",
            " 18  AREA                50318 non-null  object \n",
            " 19  CELL_ID_y           50318 non-null  object \n",
            "dtypes: float64(2), int64(2), object(16)\n",
            "memory usage: 8.1+ MB\n"
          ],
          "name": "stdout"
        }
      ]
    },
    {
      "cell_type": "markdown",
      "metadata": {
        "id": "whutfaMYz_eK",
        "colab_type": "text"
      },
      "source": [
        "## Analysis"
      ]
    },
    {
      "cell_type": "markdown",
      "metadata": {
        "id": "2V-kWHCZctI0",
        "colab_type": "text"
      },
      "source": [
        "### Which ones were the most used city for the three days?"
      ]
    },
    {
      "cell_type": "code",
      "metadata": {
        "id": "idEhp1G1IWyz",
        "colab_type": "code",
        "colab": {
          "base_uri": "https://localhost:8080/",
          "height": 98
        },
        "outputId": "79960fac-0d6f-40f3-f0bf-c8c2a0a70e61"
      },
      "source": [
        "both.VILLES.describe()"
      ],
      "execution_count": 33,
      "outputs": [
        {
          "output_type": "execute_result",
          "data": {
            "text/plain": [
              "count        50318\n",
              "unique         400\n",
              "top       YOPOUGON\n",
              "freq          8549\n",
              "Name: VILLES, dtype: object"
            ]
          },
          "metadata": {
            "tags": []
          },
          "execution_count": 33
        }
      ]
    },
    {
      "cell_type": "code",
      "metadata": {
        "id": "LOQ2kFCvSWXT",
        "colab_type": "code",
        "colab": {
          "base_uri": "https://localhost:8080/",
          "height": 196
        },
        "outputId": "767a8c73-0889-4ba5-9172-0091f1d82752"
      },
      "source": [
        "both.VILLES.value_counts().head(10)"
      ],
      "execution_count": 34,
      "outputs": [
        {
          "output_type": "execute_result",
          "data": {
            "text/plain": [
              "YOPOUGON        8549\n",
              "ABOBO           6159\n",
              "COCODY          3716\n",
              "ADJAME          2655\n",
              "KOUMASSI        2275\n",
              "MARCORY         2104\n",
              "YAMOUSSOUKRO    2076\n",
              "TREICHVILLE     2026\n",
              "DALOA           1747\n",
              "ATTECOUBE       1634\n",
              "Name: VILLES, dtype: int64"
            ]
          },
          "metadata": {
            "tags": []
          },
          "execution_count": 34
        }
      ]
    },
    {
      "cell_type": "markdown",
      "metadata": {
        "id": "C_wo9c0RNjxP",
        "colab_type": "text"
      },
      "source": [
        "### Which cities were the most used during business and home hours?"
      ]
    },
    {
      "cell_type": "code",
      "metadata": {
        "id": "H1gTCjkSNTmK",
        "colab_type": "code",
        "colab": {
          "base_uri": "https://localhost:8080/",
          "height": 0
        },
        "outputId": "79707b61-7d7d-4987-e761-b590ba8083d5"
      },
      "source": [
        "both.LONGITUDE.describe()"
      ],
      "execution_count": 35,
      "outputs": [
        {
          "output_type": "execute_result",
          "data": {
            "text/plain": [
              "count    50318.000000\n",
              "mean        -4.645657\n",
              "std          1.059972\n",
              "min         -8.408611\n",
              "25%         -5.260333\n",
              "50%         -4.055778\n",
              "75%         -4.003056\n",
              "max         -0.000000\n",
              "Name: LONGITUDE, dtype: float64"
            ]
          },
          "metadata": {
            "tags": []
          },
          "execution_count": 35
        }
      ]
    },
    {
      "cell_type": "markdown",
      "metadata": {
        "id": "5MJOGVvkOgay",
        "colab_type": "text"
      },
      "source": [
        "given all longitudes are within GMT +/- 30 minutes longitudes are unnecesary"
      ]
    },
    {
      "cell_type": "code",
      "metadata": {
        "id": "fcbXZYalaljz",
        "colab_type": "code",
        "colab": {
          "base_uri": "https://localhost:8080/",
          "height": 0
        },
        "outputId": "36a9132e-1d9e-4d38-acfb-3967b189ae76"
      },
      "source": [
        "both.STATUS.describe()"
      ],
      "execution_count": 36,
      "outputs": [
        {
          "output_type": "execute_result",
          "data": {
            "text/plain": [
              "count          50318\n",
              "unique             2\n",
              "top       In Service\n",
              "freq           49615\n",
              "Name: STATUS, dtype: object"
            ]
          },
          "metadata": {
            "tags": []
          },
          "execution_count": 36
        }
      ]
    },
    {
      "cell_type": "code",
      "metadata": {
        "id": "iGQr6iDo9nUx",
        "colab_type": "code",
        "colab": {
          "base_uri": "https://localhost:8080/",
          "height": 0
        },
        "outputId": "5f0ea3a8-3af0-470e-8195-030af051c746"
      },
      "source": [
        "both['time'].count()"
      ],
      "execution_count": 37,
      "outputs": [
        {
          "output_type": "execute_result",
          "data": {
            "text/plain": [
              "50318"
            ]
          },
          "metadata": {
            "tags": []
          },
          "execution_count": 37
        }
      ]
    },
    {
      "cell_type": "code",
      "metadata": {
        "id": "131KC1HnPuCz",
        "colab_type": "code",
        "colab": {
          "base_uri": "https://localhost:8080/",
          "height": 0
        },
        "outputId": "adf38aa6-6275-4fdd-97ac-b678b73b4bea"
      },
      "source": [
        "both.time[(both['time']>='0:08:00.0') & (both['time']<='0:17:00.0')].count()"
      ],
      "execution_count": 38,
      "outputs": [
        {
          "output_type": "execute_result",
          "data": {
            "text/plain": [
              "0"
            ]
          },
          "metadata": {
            "tags": []
          },
          "execution_count": 38
        }
      ]
    },
    {
      "cell_type": "code",
      "metadata": {
        "id": "64miwJ3u9UrA",
        "colab_type": "code",
        "colab": {
          "base_uri": "https://localhost:8080/",
          "height": 0
        },
        "outputId": "88d45983-d32d-4b7f-e7f3-aeba7c3775fe"
      },
      "source": [
        "both.time[(both['time']<='0:08:00.0') | (both['time']>='0:17:00.0')].count()"
      ],
      "execution_count": 39,
      "outputs": [
        {
          "output_type": "execute_result",
          "data": {
            "text/plain": [
              "50318"
            ]
          },
          "metadata": {
            "tags": []
          },
          "execution_count": 39
        }
      ]
    },
    {
      "cell_type": "markdown",
      "metadata": {
        "id": "EzOiBSMV9tWA",
        "colab_type": "text"
      },
      "source": [
        "This shows all calls in the data set were made during home hours.\n",
        "Now checking most used city during home hours"
      ]
    },
    {
      "cell_type": "code",
      "metadata": {
        "id": "eurAnjrRLva2",
        "colab_type": "code",
        "colab": {
          "base_uri": "https://localhost:8080/",
          "height": 0
        },
        "outputId": "424dfdea-aff5-4dca-fa6b-459d1f7dcc4b"
      },
      "source": [
        "both.VILLES.value_counts().head(10)"
      ],
      "execution_count": 40,
      "outputs": [
        {
          "output_type": "execute_result",
          "data": {
            "text/plain": [
              "YOPOUGON        8549\n",
              "ABOBO           6159\n",
              "COCODY          3716\n",
              "ADJAME          2655\n",
              "KOUMASSI        2275\n",
              "MARCORY         2104\n",
              "YAMOUSSOUKRO    2076\n",
              "TREICHVILLE     2026\n",
              "DALOA           1747\n",
              "ATTECOUBE       1634\n",
              "Name: VILLES, dtype: int64"
            ]
          },
          "metadata": {
            "tags": []
          },
          "execution_count": 40
        }
      ]
    },
    {
      "cell_type": "markdown",
      "metadata": {
        "id": "NLvIYkheLTAq",
        "colab_type": "text"
      },
      "source": [
        "### Most used city for the three days?"
      ]
    },
    {
      "cell_type": "code",
      "metadata": {
        "id": "NTDjna_LLWBC",
        "colab_type": "code",
        "colab": {
          "base_uri": "https://localhost:8080/",
          "height": 0
        },
        "outputId": "1dd19032-5efc-4f43-ba51-2eb93cd0bf6b"
      },
      "source": [
        "both.VILLES.value_counts().head(1)"
      ],
      "execution_count": 41,
      "outputs": [
        {
          "output_type": "execute_result",
          "data": {
            "text/plain": [
              "YOPOUGON    8549\n",
              "Name: VILLES, dtype: int64"
            ]
          },
          "metadata": {
            "tags": []
          },
          "execution_count": 41
        }
      ]
    },
    {
      "cell_type": "markdown",
      "metadata": {
        "id": "KPCbLSm0MClU",
        "colab_type": "text"
      },
      "source": [
        "The most used city was YOPOUGON"
      ]
    },
    {
      "cell_type": "markdown",
      "metadata": {
        "id": "JgZyoVKwMOmo",
        "colab_type": "text"
      },
      "source": [
        "### Ill also check for the least cities used"
      ]
    },
    {
      "cell_type": "code",
      "metadata": {
        "id": "GY_BcgazYgX7",
        "colab_type": "code",
        "colab": {
          "base_uri": "https://localhost:8080/",
          "height": 0
        },
        "outputId": "125e4ff1-de34-4cb1-8fcb-844fdd4f30f1"
      },
      "source": [
        "vv=both[['VILLES','VALUE']].groupby('VILLES').count()\n",
        "lst=vv[vv.VALUE<=vv.max().VALUE].sort_values(by='VALUE',ascending=1).head(10)\n",
        "lst"
      ],
      "execution_count": 42,
      "outputs": [
        {
          "output_type": "execute_result",
          "data": {
            "text/html": [
              "<div>\n",
              "<style scoped>\n",
              "    .dataframe tbody tr th:only-of-type {\n",
              "        vertical-align: middle;\n",
              "    }\n",
              "\n",
              "    .dataframe tbody tr th {\n",
              "        vertical-align: top;\n",
              "    }\n",
              "\n",
              "    .dataframe thead th {\n",
              "        text-align: right;\n",
              "    }\n",
              "</style>\n",
              "<table border=\"1\" class=\"dataframe\">\n",
              "  <thead>\n",
              "    <tr style=\"text-align: right;\">\n",
              "      <th></th>\n",
              "      <th>VALUE</th>\n",
              "    </tr>\n",
              "    <tr>\n",
              "      <th>VILLES</th>\n",
              "      <th></th>\n",
              "    </tr>\n",
              "  </thead>\n",
              "  <tbody>\n",
              "    <tr>\n",
              "      <th>KOTOULA</th>\n",
              "      <td>2</td>\n",
              "    </tr>\n",
              "    <tr>\n",
              "      <th>DANANON</th>\n",
              "      <td>2</td>\n",
              "    </tr>\n",
              "    <tr>\n",
              "      <th>DJENIDOUFLA</th>\n",
              "      <td>3</td>\n",
              "    </tr>\n",
              "    <tr>\n",
              "      <th>DJOUKOUYO</th>\n",
              "      <td>3</td>\n",
              "    </tr>\n",
              "    <tr>\n",
              "      <th>DAKPADOU</th>\n",
              "      <td>3</td>\n",
              "    </tr>\n",
              "    <tr>\n",
              "      <th>BLANFLA</th>\n",
              "      <td>3</td>\n",
              "    </tr>\n",
              "    <tr>\n",
              "      <th>BINAO</th>\n",
              "      <td>3</td>\n",
              "    </tr>\n",
              "    <tr>\n",
              "      <th>BIN HOUNIEN</th>\n",
              "      <td>3</td>\n",
              "    </tr>\n",
              "    <tr>\n",
              "      <th>BIELOU-CARREFOUR</th>\n",
              "      <td>3</td>\n",
              "    </tr>\n",
              "    <tr>\n",
              "      <th>NGATTADOLIKRO</th>\n",
              "      <td>3</td>\n",
              "    </tr>\n",
              "  </tbody>\n",
              "</table>\n",
              "</div>"
            ],
            "text/plain": [
              "                  VALUE\n",
              "VILLES                 \n",
              "KOTOULA               2\n",
              "DANANON               2\n",
              "DJENIDOUFLA           3\n",
              "DJOUKOUYO             3\n",
              "DAKPADOU              3\n",
              "BLANFLA               3\n",
              "BINAO                 3\n",
              "BIN HOUNIEN           3\n",
              "BIELOU-CARREFOUR      3\n",
              "NGATTADOLIKRO         3"
            ]
          },
          "metadata": {
            "tags": []
          },
          "execution_count": 42
        }
      ]
    },
    {
      "cell_type": "markdown",
      "metadata": {
        "id": "_m7gh5tff46M",
        "colab_type": "text"
      },
      "source": [
        "### SMS vs CALLS\n",
        "Which was more used"
      ]
    },
    {
      "cell_type": "code",
      "metadata": {
        "id": "K2_2rJflf-A5",
        "colab_type": "code",
        "colab": {
          "base_uri": "https://localhost:8080/",
          "height": 66
        },
        "outputId": "7b476ede-6d56-4303-9819-ffa6e5357ccc"
      },
      "source": [
        "both.PRODUCT.value_counts()"
      ],
      "execution_count": 43,
      "outputs": [
        {
          "output_type": "execute_result",
          "data": {
            "text/plain": [
              "sms      29052\n",
              "Voice    21266\n",
              "Name: PRODUCT, dtype: int64"
            ]
          },
          "metadata": {
            "tags": []
          },
          "execution_count": 43
        }
      ]
    },
    {
      "cell_type": "markdown",
      "metadata": {
        "id": "CtyBaQsojfcW",
        "colab_type": "text"
      },
      "source": [
        "SMS's were used for communication as compared to Calls"
      ]
    },
    {
      "cell_type": "code",
      "metadata": {
        "id": "Uo22sBB2Vzcs",
        "colab_type": "code",
        "colab": {
          "base_uri": "https://localhost:8080/",
          "height": 736
        },
        "outputId": "d8f8c7b8-68ea-4798-c689-e56a0f65e1de"
      },
      "source": [
        "both"
      ],
      "execution_count": 44,
      "outputs": [
        {
          "output_type": "execute_result",
          "data": {
            "text/html": [
              "<div>\n",
              "<style scoped>\n",
              "    .dataframe tbody tr th:only-of-type {\n",
              "        vertical-align: middle;\n",
              "    }\n",
              "\n",
              "    .dataframe tbody tr th {\n",
              "        vertical-align: top;\n",
              "    }\n",
              "\n",
              "    .dataframe thead th {\n",
              "        text-align: right;\n",
              "    }\n",
              "</style>\n",
              "<table border=\"1\" class=\"dataframe\">\n",
              "  <thead>\n",
              "    <tr style=\"text-align: right;\">\n",
              "      <th></th>\n",
              "      <th>PRODUCT</th>\n",
              "      <th>VALUE</th>\n",
              "      <th>DATE_TIME</th>\n",
              "      <th>DW_A_NUMBER_INT</th>\n",
              "      <th>DW_B_NUMBER_INT</th>\n",
              "      <th>CELL_ID_x</th>\n",
              "      <th>SITE_ID</th>\n",
              "      <th>date</th>\n",
              "      <th>time</th>\n",
              "      <th>caller2receiver_id</th>\n",
              "      <th>VILLES</th>\n",
              "      <th>STATUS</th>\n",
              "      <th>LOCALISATION</th>\n",
              "      <th>DECOUPZONE</th>\n",
              "      <th>ZONENAME</th>\n",
              "      <th>LONGITUDE</th>\n",
              "      <th>LATITUDE</th>\n",
              "      <th>REGION</th>\n",
              "      <th>AREA</th>\n",
              "      <th>CELL_ID_y</th>\n",
              "    </tr>\n",
              "  </thead>\n",
              "  <tbody>\n",
              "    <tr>\n",
              "      <th>0</th>\n",
              "      <td>sms</td>\n",
              "      <td>0</td>\n",
              "      <td>2012-05-07 00:00:00.0</td>\n",
              "      <td>8118c3aa53d6c7b</td>\n",
              "      <td>1d103ea638ad1f0</td>\n",
              "      <td>5d9dc897f7</td>\n",
              "      <td>1b5540c02d</td>\n",
              "      <td>2012-05-07</td>\n",
              "      <td>00:00:00.0</td>\n",
              "      <td>972</td>\n",
              "      <td>BOUAKE</td>\n",
              "      <td>In Service</td>\n",
              "      <td>INTERIEUR</td>\n",
              "      <td>Grand-NORD</td>\n",
              "      <td>ZONE A - Grand-NORD</td>\n",
              "      <td>-5.027139</td>\n",
              "      <td>7.718417</td>\n",
              "      <td>VALLEE DU BANDAMA</td>\n",
              "      <td>CENTRE NORTH</td>\n",
              "      <td>24ccdda3d5</td>\n",
              "    </tr>\n",
              "    <tr>\n",
              "      <th>1</th>\n",
              "      <td>sms</td>\n",
              "      <td>0</td>\n",
              "      <td>2012-05-07 00:00:00.0</td>\n",
              "      <td>8118c3aa53d6c7b</td>\n",
              "      <td>1d103ea638ad1f0</td>\n",
              "      <td>5d9dc897f7</td>\n",
              "      <td>1b5540c02d</td>\n",
              "      <td>2012-05-07</td>\n",
              "      <td>00:00:00.0</td>\n",
              "      <td>973</td>\n",
              "      <td>BOUAKE</td>\n",
              "      <td>In Service</td>\n",
              "      <td>INTERIEUR</td>\n",
              "      <td>Grand-NORD</td>\n",
              "      <td>ZONE A - Grand-NORD</td>\n",
              "      <td>-5.027139</td>\n",
              "      <td>7.718417</td>\n",
              "      <td>VALLEE DU BANDAMA</td>\n",
              "      <td>CENTRE NORTH</td>\n",
              "      <td>ebfc58af70</td>\n",
              "    </tr>\n",
              "    <tr>\n",
              "      <th>2</th>\n",
              "      <td>sms</td>\n",
              "      <td>0</td>\n",
              "      <td>2012-05-07 00:00:00.0</td>\n",
              "      <td>8118c3aa53d6c7b</td>\n",
              "      <td>1d103ea638ad1f0</td>\n",
              "      <td>5d9dc897f7</td>\n",
              "      <td>1b5540c02d</td>\n",
              "      <td>2012-05-07</td>\n",
              "      <td>00:00:00.0</td>\n",
              "      <td>974</td>\n",
              "      <td>BOUAKE</td>\n",
              "      <td>In Service</td>\n",
              "      <td>INTERIEUR</td>\n",
              "      <td>Grand-NORD</td>\n",
              "      <td>ZONE A - Grand-NORD</td>\n",
              "      <td>-5.027139</td>\n",
              "      <td>7.718417</td>\n",
              "      <td>VALLEE DU BANDAMA</td>\n",
              "      <td>CENTRE NORTH</td>\n",
              "      <td>ba8ce6e4ef</td>\n",
              "    </tr>\n",
              "    <tr>\n",
              "      <th>3</th>\n",
              "      <td>sms</td>\n",
              "      <td>0</td>\n",
              "      <td>2012-05-07 00:00:00.0</td>\n",
              "      <td>8118c3aa53d6c7b</td>\n",
              "      <td>1d103ea638ad1f0</td>\n",
              "      <td>5d9dc897f7</td>\n",
              "      <td>1b5540c02d</td>\n",
              "      <td>2012-05-07</td>\n",
              "      <td>00:00:00.0</td>\n",
              "      <td>975</td>\n",
              "      <td>BOUAKE</td>\n",
              "      <td>In Service</td>\n",
              "      <td>INTERIEUR</td>\n",
              "      <td>Grand-NORD</td>\n",
              "      <td>ZONE A - Grand-NORD</td>\n",
              "      <td>-5.027139</td>\n",
              "      <td>7.718417</td>\n",
              "      <td>VALLEE DU BANDAMA</td>\n",
              "      <td>CENTRE NORTH</td>\n",
              "      <td>c2545171dc</td>\n",
              "    </tr>\n",
              "    <tr>\n",
              "      <th>4</th>\n",
              "      <td>sms</td>\n",
              "      <td>0</td>\n",
              "      <td>2012-05-07 00:00:00.0</td>\n",
              "      <td>8118c3aa53d6c7b</td>\n",
              "      <td>1d103ea638ad1f0</td>\n",
              "      <td>5d9dc897f7</td>\n",
              "      <td>1b5540c02d</td>\n",
              "      <td>2012-05-07</td>\n",
              "      <td>00:00:00.0</td>\n",
              "      <td>976</td>\n",
              "      <td>BOUAKE</td>\n",
              "      <td>In Service</td>\n",
              "      <td>INTERIEUR</td>\n",
              "      <td>Grand-NORD</td>\n",
              "      <td>ZONE A - Grand-NORD</td>\n",
              "      <td>-5.027139</td>\n",
              "      <td>7.718417</td>\n",
              "      <td>VALLEE DU BANDAMA</td>\n",
              "      <td>CENTRE NORTH</td>\n",
              "      <td>f15bd5483f</td>\n",
              "    </tr>\n",
              "    <tr>\n",
              "      <th>...</th>\n",
              "      <td>...</td>\n",
              "      <td>...</td>\n",
              "      <td>...</td>\n",
              "      <td>...</td>\n",
              "      <td>...</td>\n",
              "      <td>...</td>\n",
              "      <td>...</td>\n",
              "      <td>...</td>\n",
              "      <td>...</td>\n",
              "      <td>...</td>\n",
              "      <td>...</td>\n",
              "      <td>...</td>\n",
              "      <td>...</td>\n",
              "      <td>...</td>\n",
              "      <td>...</td>\n",
              "      <td>...</td>\n",
              "      <td>...</td>\n",
              "      <td>...</td>\n",
              "      <td>...</td>\n",
              "      <td>...</td>\n",
              "    </tr>\n",
              "    <tr>\n",
              "      <th>50313</th>\n",
              "      <td>Voice</td>\n",
              "      <td>17</td>\n",
              "      <td>2012-05-09 00:01:42.0</td>\n",
              "      <td>22e493a92442b73</td>\n",
              "      <td>c9e2c9c2fa3795a</td>\n",
              "      <td>2f50f4a1fb</td>\n",
              "      <td>cc45940406</td>\n",
              "      <td>2012-05-09</td>\n",
              "      <td>00:01:42.0</td>\n",
              "      <td>2361</td>\n",
              "      <td>ADJAME</td>\n",
              "      <td>In Service</td>\n",
              "      <td>ABIDJAN</td>\n",
              "      <td>Abidjan_CENTRE</td>\n",
              "      <td>ZONE B - Abidjan_CENTRE</td>\n",
              "      <td>-4.023247</td>\n",
              "      <td>5.349442</td>\n",
              "      <td>LAGUNE</td>\n",
              "      <td>ABIDJAN NORTH</td>\n",
              "      <td>c179f33d5e</td>\n",
              "    </tr>\n",
              "    <tr>\n",
              "      <th>50314</th>\n",
              "      <td>Voice</td>\n",
              "      <td>17</td>\n",
              "      <td>2012-05-09 00:01:42.0</td>\n",
              "      <td>22e493a92442b73</td>\n",
              "      <td>c9e2c9c2fa3795a</td>\n",
              "      <td>2f50f4a1fb</td>\n",
              "      <td>cc45940406</td>\n",
              "      <td>2012-05-09</td>\n",
              "      <td>00:01:42.0</td>\n",
              "      <td>2362</td>\n",
              "      <td>ADJAME</td>\n",
              "      <td>In Service</td>\n",
              "      <td>ABIDJAN</td>\n",
              "      <td>Abidjan_CENTRE</td>\n",
              "      <td>ZONE B - Abidjan_CENTRE</td>\n",
              "      <td>-4.023247</td>\n",
              "      <td>5.349442</td>\n",
              "      <td>LAGUNE</td>\n",
              "      <td>ABIDJAN NORTH</td>\n",
              "      <td>0a3f751619</td>\n",
              "    </tr>\n",
              "    <tr>\n",
              "      <th>50315</th>\n",
              "      <td>sms</td>\n",
              "      <td>0</td>\n",
              "      <td>2012-05-09 00:01:43.0</td>\n",
              "      <td>32e2e7c90a9b0e9</td>\n",
              "      <td>32e2e7c90a9b0e9</td>\n",
              "      <td>25c671778e</td>\n",
              "      <td>ab91f5b21d</td>\n",
              "      <td>2012-05-09</td>\n",
              "      <td>00:01:43.0</td>\n",
              "      <td>1316</td>\n",
              "      <td>DIABO</td>\n",
              "      <td>In Service</td>\n",
              "      <td>INTERIEUR</td>\n",
              "      <td>Grand-NORD</td>\n",
              "      <td>ZONE A - Grand-NORD</td>\n",
              "      <td>-5.171778</td>\n",
              "      <td>7.777056</td>\n",
              "      <td>VALLEE DU BANDAMA</td>\n",
              "      <td>CENTRE NORTH</td>\n",
              "      <td>0427a26d34</td>\n",
              "    </tr>\n",
              "    <tr>\n",
              "      <th>50316</th>\n",
              "      <td>sms</td>\n",
              "      <td>0</td>\n",
              "      <td>2012-05-09 00:01:43.0</td>\n",
              "      <td>32e2e7c90a9b0e9</td>\n",
              "      <td>32e2e7c90a9b0e9</td>\n",
              "      <td>25c671778e</td>\n",
              "      <td>ab91f5b21d</td>\n",
              "      <td>2012-05-09</td>\n",
              "      <td>00:01:43.0</td>\n",
              "      <td>1317</td>\n",
              "      <td>DIABO</td>\n",
              "      <td>In Service</td>\n",
              "      <td>INTERIEUR</td>\n",
              "      <td>Grand-NORD</td>\n",
              "      <td>ZONE A - Grand-NORD</td>\n",
              "      <td>-5.171778</td>\n",
              "      <td>7.777056</td>\n",
              "      <td>VALLEE DU BANDAMA</td>\n",
              "      <td>CENTRE NORTH</td>\n",
              "      <td>7c72293cf2</td>\n",
              "    </tr>\n",
              "    <tr>\n",
              "      <th>50317</th>\n",
              "      <td>sms</td>\n",
              "      <td>0</td>\n",
              "      <td>2012-05-09 00:01:43.0</td>\n",
              "      <td>32e2e7c90a9b0e9</td>\n",
              "      <td>32e2e7c90a9b0e9</td>\n",
              "      <td>25c671778e</td>\n",
              "      <td>ab91f5b21d</td>\n",
              "      <td>2012-05-09</td>\n",
              "      <td>00:01:43.0</td>\n",
              "      <td>1318</td>\n",
              "      <td>DIABO</td>\n",
              "      <td>In Service</td>\n",
              "      <td>INTERIEUR</td>\n",
              "      <td>Grand-NORD</td>\n",
              "      <td>ZONE A - Grand-NORD</td>\n",
              "      <td>-5.171778</td>\n",
              "      <td>7.777056</td>\n",
              "      <td>VALLEE DU BANDAMA</td>\n",
              "      <td>CENTRE NORTH</td>\n",
              "      <td>be18b5b981</td>\n",
              "    </tr>\n",
              "  </tbody>\n",
              "</table>\n",
              "<p>50318 rows × 20 columns</p>\n",
              "</div>"
            ],
            "text/plain": [
              "      PRODUCT  VALUE  ...           AREA   CELL_ID_y\n",
              "0         sms      0  ...   CENTRE NORTH  24ccdda3d5\n",
              "1         sms      0  ...   CENTRE NORTH  ebfc58af70\n",
              "2         sms      0  ...   CENTRE NORTH  ba8ce6e4ef\n",
              "3         sms      0  ...   CENTRE NORTH  c2545171dc\n",
              "4         sms      0  ...   CENTRE NORTH  f15bd5483f\n",
              "...       ...    ...  ...            ...         ...\n",
              "50313   Voice     17  ...  ABIDJAN NORTH  c179f33d5e\n",
              "50314   Voice     17  ...  ABIDJAN NORTH  0a3f751619\n",
              "50315     sms      0  ...   CENTRE NORTH  0427a26d34\n",
              "50316     sms      0  ...   CENTRE NORTH  7c72293cf2\n",
              "50317     sms      0  ...   CENTRE NORTH  be18b5b981\n",
              "\n",
              "[50318 rows x 20 columns]"
            ]
          },
          "metadata": {
            "tags": []
          },
          "execution_count": 44
        }
      ]
    },
    {
      "cell_type": "markdown",
      "metadata": {
        "id": "HgnYS1zkao_V",
        "colab_type": "text"
      },
      "source": [
        "### The most frequent users"
      ]
    },
    {
      "cell_type": "code",
      "metadata": {
        "id": "jfd9QF62dRlX",
        "colab_type": "code",
        "colab": {
          "base_uri": "https://localhost:8080/",
          "height": 196
        },
        "outputId": "42804c7e-8a7f-45d3-de28-200df328d2f5"
      },
      "source": [
        "both.DW_A_NUMBER_INT.value_counts().head(10)"
      ],
      "execution_count": 56,
      "outputs": [
        {
          "output_type": "execute_result",
          "data": {
            "text/plain": [
              "8ab8b9ed6989f61    420\n",
              "4e49073a756df8c    348\n",
              "6d10227297efcb9    261\n",
              "a048e1ab344dcd8    201\n",
              "c731afd285c9261    180\n",
              "444da5f3bc97ddd    180\n",
              "ebd6d4a192a8f2d    162\n",
              "5b6f26b5d0758fe    156\n",
              "a0a597384c612d7    150\n",
              "3460a40959c6e5a    138\n",
              "Name: DW_A_NUMBER_INT, dtype: int64"
            ]
          },
          "metadata": {
            "tags": []
          },
          "execution_count": 56
        }
      ]
    }
  ]
}